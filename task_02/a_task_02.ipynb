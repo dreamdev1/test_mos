{
 "cells": [
  {
   "cell_type": "code",
   "execution_count": 1,
   "id": "ae0f6470",
   "metadata": {},
   "outputs": [],
   "source": [
    "import pandas as pd\n",
    "import numpy as np\n",
    "import duckdb # библиотека для работы с SQL"
   ]
  },
  {
   "cell_type": "code",
   "execution_count": 2,
   "id": "f4cd54ab",
   "metadata": {},
   "outputs": [],
   "source": [
    "item = pd.read_csv('item.csv')\n",
    "sessions_closed = pd.read_csv('sessions_closed.csv')"
   ]
  },
  {
   "cell_type": "markdown",
   "id": "2e67074a",
   "metadata": {},
   "source": [
    "#### Чтобы вычислить качество выполнения задания можно использовать простую формулу\n",
    "Количество успешно выполненных заданий / Общее количество заданий, исключая при этом Status = 100\n",
    "- Я исключил Status = 100, так как коррдинатор в большинстве случаев очень быстро отклоняет задание и задание нельзя считать неуспешным\n",
    "- Если Status = 102, то задание однозначено выполнено неуспешно\n",
    "- Если Status = 101, этот статус обсуждаем. Я буду учитывать этот статус при оценке качества. Задание также было выполнено неуспешно, т.к. пользователь сам отказался от выполнения.\n",
    "- Если Status = 103, то это успех\n",
    "\n",
    "Вторым вариантом можно было присвоить веса каждому статусу, но я выберу первую модель"
   ]
  },
  {
   "cell_type": "code",
   "execution_count": 3,
   "id": "58e7dc21",
   "metadata": {},
   "outputs": [],
   "source": [
    "item = item.rename(columns={'id':'task_id'})"
   ]
  },
  {
   "cell_type": "code",
   "execution_count": 4,
   "id": "6d2265fa",
   "metadata": {},
   "outputs": [],
   "source": [
    "# объединю две таблицы\n",
    "df = pd.merge(sessions_closed, item, how='left', on='task_id')"
   ]
  },
  {
   "cell_type": "code",
   "execution_count": 5,
   "id": "3e948370",
   "metadata": {},
   "outputs": [
    {
     "data": {
      "text/plain": [
       "0"
      ]
     },
     "execution_count": 5,
     "metadata": {},
     "output_type": "execute_result"
    }
   ],
   "source": [
    "# дубликатов нет\n",
    "df.duplicated().sum()"
   ]
  },
  {
   "cell_type": "code",
   "execution_count": 6,
   "id": "ff984538",
   "metadata": {},
   "outputs": [
    {
     "name": "stdout",
     "output_type": "stream",
     "text": [
      "<class 'pandas.core.frame.DataFrame'>\n",
      "RangeIndex: 748123 entries, 0 to 748122\n",
      "Data columns (total 9 columns):\n",
      " #   Column      Non-Null Count   Dtype  \n",
      "---  ------      --------------   -----  \n",
      " 0   id          748123 non-null  int64  \n",
      " 1   task_id     748123 non-null  int64  \n",
      " 2   user_id     748123 non-null  int64  \n",
      " 3   status      748123 non-null  int64  \n",
      " 4   created_at  748123 non-null  object \n",
      " 5   updated_at  748123 non-null  object \n",
      " 6   type_id     748123 non-null  int64  \n",
      " 7   name        748123 non-null  object \n",
      " 8   points      748123 non-null  float64\n",
      "dtypes: float64(1), int64(5), object(3)\n",
      "memory usage: 51.4+ MB\n"
     ]
    }
   ],
   "source": [
    "# пропущенных значений нет, с типами данных тоже всё впорядке. (Даты нам не нужны)\n",
    "df.info()"
   ]
  },
  {
   "cell_type": "markdown",
   "id": "5796bae7",
   "metadata": {},
   "source": [
    "#### Момент с определением списка заданий. \n",
    "У многих заданий которые называются одинаково, разные task_id. Если мы будет группировать и агрегировать по task_id, получится 58866 различных значений. Кажется это слишком много и будет более правильно, если группы будут меньше.\n",
    "\n",
    "Также можно группировать по type_id, будет всего 4 значения, но это будут слишком общие данные\n",
    "\n",
    "Поэтому группирую по name, получится 285 значений"
   ]
  },
  {
   "cell_type": "code",
   "execution_count": 7,
   "id": "32866900",
   "metadata": {},
   "outputs": [
    {
     "data": {
      "text/plain": [
       "58866"
      ]
     },
     "execution_count": 7,
     "metadata": {},
     "output_type": "execute_result"
    }
   ],
   "source": [
    "df['task_id'].nunique()"
   ]
  },
  {
   "cell_type": "code",
   "execution_count": 8,
   "id": "d13fa5a7",
   "metadata": {},
   "outputs": [
    {
     "data": {
      "text/plain": [
       "285"
      ]
     },
     "execution_count": 8,
     "metadata": {},
     "output_type": "execute_result"
    }
   ],
   "source": [
    "df['name'].nunique()"
   ]
  },
  {
   "cell_type": "code",
   "execution_count": 9,
   "id": "c8cb7da0",
   "metadata": {},
   "outputs": [
    {
     "data": {
      "text/plain": [
       "type_id\n",
       "3    466992\n",
       "2    247242\n",
       "4     32690\n",
       "5      1199\n",
       "Name: count, dtype: int64"
      ]
     },
     "execution_count": 9,
     "metadata": {},
     "output_type": "execute_result"
    }
   ],
   "source": [
    "# распределение по type_id\n",
    "df['type_id'].value_counts()"
   ]
  },
  {
   "cell_type": "code",
   "execution_count": 10,
   "id": "7fcaf56b",
   "metadata": {},
   "outputs": [
    {
     "data": {
      "text/html": [
       "<div>\n",
       "<style scoped>\n",
       "    .dataframe tbody tr th:only-of-type {\n",
       "        vertical-align: middle;\n",
       "    }\n",
       "\n",
       "    .dataframe tbody tr th {\n",
       "        vertical-align: top;\n",
       "    }\n",
       "\n",
       "    .dataframe thead th {\n",
       "        text-align: right;\n",
       "    }\n",
       "</style>\n",
       "<table border=\"1\" class=\"dataframe\">\n",
       "  <thead>\n",
       "    <tr style=\"text-align: right;\">\n",
       "      <th></th>\n",
       "      <th>id</th>\n",
       "      <th>task_id</th>\n",
       "      <th>user_id</th>\n",
       "      <th>status</th>\n",
       "      <th>created_at</th>\n",
       "      <th>updated_at</th>\n",
       "      <th>type_id</th>\n",
       "      <th>name</th>\n",
       "      <th>points</th>\n",
       "    </tr>\n",
       "  </thead>\n",
       "  <tbody>\n",
       "    <tr>\n",
       "      <th>241782</th>\n",
       "      <td>727263</td>\n",
       "      <td>21062</td>\n",
       "      <td>7369</td>\n",
       "      <td>100</td>\n",
       "      <td>2022-09-19 17:03:23</td>\n",
       "      <td>2022-09-19 17:03:43</td>\n",
       "      <td>2</td>\n",
       "      <td>Фиксация состояния объекта городского хозяйства</td>\n",
       "      <td>470.0</td>\n",
       "    </tr>\n",
       "    <tr>\n",
       "      <th>241786</th>\n",
       "      <td>727275</td>\n",
       "      <td>20995</td>\n",
       "      <td>37542</td>\n",
       "      <td>103</td>\n",
       "      <td>2022-09-19 17:08:04</td>\n",
       "      <td>2022-09-20 12:42:21</td>\n",
       "      <td>2</td>\n",
       "      <td>Фиксация состояния объекта городского хозяйства</td>\n",
       "      <td>390.0</td>\n",
       "    </tr>\n",
       "    <tr>\n",
       "      <th>241787</th>\n",
       "      <td>727278</td>\n",
       "      <td>20995</td>\n",
       "      <td>37574</td>\n",
       "      <td>103</td>\n",
       "      <td>2022-09-19 17:08:30</td>\n",
       "      <td>2022-09-20 12:43:20</td>\n",
       "      <td>2</td>\n",
       "      <td>Фиксация состояния объекта городского хозяйства</td>\n",
       "      <td>390.0</td>\n",
       "    </tr>\n",
       "    <tr>\n",
       "      <th>241788</th>\n",
       "      <td>727281</td>\n",
       "      <td>21048</td>\n",
       "      <td>1238</td>\n",
       "      <td>103</td>\n",
       "      <td>2022-09-19 17:08:53</td>\n",
       "      <td>2022-09-20 12:57:36</td>\n",
       "      <td>2</td>\n",
       "      <td>Фиксация состояния объекта городского хозяйства</td>\n",
       "      <td>470.0</td>\n",
       "    </tr>\n",
       "    <tr>\n",
       "      <th>241789</th>\n",
       "      <td>727284</td>\n",
       "      <td>21064</td>\n",
       "      <td>14645</td>\n",
       "      <td>100</td>\n",
       "      <td>2022-09-19 17:09:05</td>\n",
       "      <td>2022-09-19 19:54:28</td>\n",
       "      <td>2</td>\n",
       "      <td>Фиксация состояния объекта городского хозяйства</td>\n",
       "      <td>470.0</td>\n",
       "    </tr>\n",
       "    <tr>\n",
       "      <th>...</th>\n",
       "      <td>...</td>\n",
       "      <td>...</td>\n",
       "      <td>...</td>\n",
       "      <td>...</td>\n",
       "      <td>...</td>\n",
       "      <td>...</td>\n",
       "      <td>...</td>\n",
       "      <td>...</td>\n",
       "      <td>...</td>\n",
       "    </tr>\n",
       "    <tr>\n",
       "      <th>746593</th>\n",
       "      <td>1826286</td>\n",
       "      <td>51317</td>\n",
       "      <td>6774</td>\n",
       "      <td>102</td>\n",
       "      <td>2023-04-16 15:21:40</td>\n",
       "      <td>2023-04-16 19:22:01</td>\n",
       "      <td>2</td>\n",
       "      <td>Фиксация состояния объекта городского хозяйства</td>\n",
       "      <td>390.0</td>\n",
       "    </tr>\n",
       "    <tr>\n",
       "      <th>746598</th>\n",
       "      <td>1826338</td>\n",
       "      <td>51353</td>\n",
       "      <td>710</td>\n",
       "      <td>100</td>\n",
       "      <td>2023-04-16 16:50:52</td>\n",
       "      <td>2023-04-16 16:50:58</td>\n",
       "      <td>2</td>\n",
       "      <td>Фиксация состояния объекта городского хозяйства</td>\n",
       "      <td>700.0</td>\n",
       "    </tr>\n",
       "    <tr>\n",
       "      <th>746599</th>\n",
       "      <td>1826346</td>\n",
       "      <td>51413</td>\n",
       "      <td>121167</td>\n",
       "      <td>102</td>\n",
       "      <td>2023-04-16 17:01:31</td>\n",
       "      <td>2023-04-16 21:02:01</td>\n",
       "      <td>2</td>\n",
       "      <td>Фиксация состояния объекта городского хозяйства</td>\n",
       "      <td>470.0</td>\n",
       "    </tr>\n",
       "    <tr>\n",
       "      <th>746601</th>\n",
       "      <td>1826364</td>\n",
       "      <td>51316</td>\n",
       "      <td>122640</td>\n",
       "      <td>102</td>\n",
       "      <td>2023-04-16 17:24:12</td>\n",
       "      <td>2023-04-16 21:25:01</td>\n",
       "      <td>2</td>\n",
       "      <td>Фиксация состояния объекта городского хозяйства</td>\n",
       "      <td>700.0</td>\n",
       "    </tr>\n",
       "    <tr>\n",
       "      <th>746605</th>\n",
       "      <td>1826402</td>\n",
       "      <td>51398</td>\n",
       "      <td>69255</td>\n",
       "      <td>102</td>\n",
       "      <td>2023-04-16 18:29:39</td>\n",
       "      <td>2023-04-16 22:30:01</td>\n",
       "      <td>2</td>\n",
       "      <td>Фиксация состояния объекта городского хозяйства</td>\n",
       "      <td>390.0</td>\n",
       "    </tr>\n",
       "  </tbody>\n",
       "</table>\n",
       "<p>3237 rows × 9 columns</p>\n",
       "</div>"
      ],
      "text/plain": [
       "             id  task_id  user_id  status           created_at  \\\n",
       "241782   727263    21062     7369     100  2022-09-19 17:03:23   \n",
       "241786   727275    20995    37542     103  2022-09-19 17:08:04   \n",
       "241787   727278    20995    37574     103  2022-09-19 17:08:30   \n",
       "241788   727281    21048     1238     103  2022-09-19 17:08:53   \n",
       "241789   727284    21064    14645     100  2022-09-19 17:09:05   \n",
       "...         ...      ...      ...     ...                  ...   \n",
       "746593  1826286    51317     6774     102  2023-04-16 15:21:40   \n",
       "746598  1826338    51353      710     100  2023-04-16 16:50:52   \n",
       "746599  1826346    51413   121167     102  2023-04-16 17:01:31   \n",
       "746601  1826364    51316   122640     102  2023-04-16 17:24:12   \n",
       "746605  1826402    51398    69255     102  2023-04-16 18:29:39   \n",
       "\n",
       "                 updated_at  type_id  \\\n",
       "241782  2022-09-19 17:03:43        2   \n",
       "241786  2022-09-20 12:42:21        2   \n",
       "241787  2022-09-20 12:43:20        2   \n",
       "241788  2022-09-20 12:57:36        2   \n",
       "241789  2022-09-19 19:54:28        2   \n",
       "...                     ...      ...   \n",
       "746593  2023-04-16 19:22:01        2   \n",
       "746598  2023-04-16 16:50:58        2   \n",
       "746599  2023-04-16 21:02:01        2   \n",
       "746601  2023-04-16 21:25:01        2   \n",
       "746605  2023-04-16 22:30:01        2   \n",
       "\n",
       "                                                   name  points  \n",
       "241782  Фиксация состояния объекта городского хозяйства   470.0  \n",
       "241786  Фиксация состояния объекта городского хозяйства   390.0  \n",
       "241787  Фиксация состояния объекта городского хозяйства   390.0  \n",
       "241788  Фиксация состояния объекта городского хозяйства   470.0  \n",
       "241789  Фиксация состояния объекта городского хозяйства   470.0  \n",
       "...                                                 ...     ...  \n",
       "746593  Фиксация состояния объекта городского хозяйства   390.0  \n",
       "746598  Фиксация состояния объекта городского хозяйства   700.0  \n",
       "746599  Фиксация состояния объекта городского хозяйства   470.0  \n",
       "746601  Фиксация состояния объекта городского хозяйства   700.0  \n",
       "746605  Фиксация состояния объекта городского хозяйства   390.0  \n",
       "\n",
       "[3237 rows x 9 columns]"
      ]
     },
     "execution_count": 10,
     "metadata": {},
     "output_type": "execute_result"
    }
   ],
   "source": [
    "# пример ДФ с одинаковым name и разными task_id\n",
    "df.loc[df['name'] == 'Фиксация состояния объекта городского хозяйства']"
   ]
  },
  {
   "cell_type": "code",
   "execution_count": 11,
   "id": "5f7f5caf",
   "metadata": {},
   "outputs": [
    {
     "data": {
      "text/plain": [
       "status\n",
       "103    636990\n",
       "102     67780\n",
       "100     42534\n",
       "101       819\n",
       "Name: count, dtype: int64"
      ]
     },
     "execution_count": 11,
     "metadata": {},
     "output_type": "execute_result"
    }
   ],
   "source": [
    "# распределение по статусам. В целом очень много успешных выполнений.\n",
    "df['status'].value_counts()"
   ]
  },
  {
   "cell_type": "code",
   "execution_count": 12,
   "id": "7f7cc83d",
   "metadata": {},
   "outputs": [],
   "source": [
    "# количество успещных выполненных заданий\n",
    "df_success = df.loc[df['status'] == 103].groupby('name', as_index=False).agg({'status':'count'}) \\\n",
    ".rename(columns={'status':'count_success'})"
   ]
  },
  {
   "cell_type": "code",
   "execution_count": 13,
   "id": "64d1ce1e",
   "metadata": {},
   "outputs": [],
   "source": [
    "# общее количество заданий\n",
    "df_all = df.loc[df['status'] != 100].groupby('name', as_index=False).agg({'status':'count'}) \\\n",
    ".rename(columns={'status':'count_all'})"
   ]
  },
  {
   "cell_type": "code",
   "execution_count": 14,
   "id": "6f35e9d6",
   "metadata": {},
   "outputs": [],
   "source": [
    "df_group = pd.merge(df_success, df_all, how='inner', on='name')"
   ]
  },
  {
   "cell_type": "code",
   "execution_count": 15,
   "id": "95f1258e",
   "metadata": {},
   "outputs": [],
   "source": [
    "# рассчитаю качество выполнения\n",
    "df_group['success_rate'] = round(df_group['count_success'] / df_group['count_all'], 2)"
   ]
  },
  {
   "cell_type": "code",
   "execution_count": 16,
   "id": "e5fc9c60",
   "metadata": {},
   "outputs": [
    {
     "data": {
      "text/html": [
       "<div>\n",
       "<style scoped>\n",
       "    .dataframe tbody tr th:only-of-type {\n",
       "        vertical-align: middle;\n",
       "    }\n",
       "\n",
       "    .dataframe tbody tr th {\n",
       "        vertical-align: top;\n",
       "    }\n",
       "\n",
       "    .dataframe thead th {\n",
       "        text-align: right;\n",
       "    }\n",
       "</style>\n",
       "<table border=\"1\" class=\"dataframe\">\n",
       "  <thead>\n",
       "    <tr style=\"text-align: right;\">\n",
       "      <th></th>\n",
       "      <th>name</th>\n",
       "      <th>count_success</th>\n",
       "      <th>count_all</th>\n",
       "      <th>success_rate</th>\n",
       "    </tr>\n",
       "  </thead>\n",
       "  <tbody>\n",
       "    <tr>\n",
       "      <th>67</th>\n",
       "      <td>Мониторинг содержания контейнерных площадок</td>\n",
       "      <td>187673</td>\n",
       "      <td>187673</td>\n",
       "      <td>1.0</td>\n",
       "    </tr>\n",
       "    <tr>\n",
       "      <th>230</th>\n",
       "      <td>Фиксация содержания бортового камня</td>\n",
       "      <td>1490</td>\n",
       "      <td>1490</td>\n",
       "      <td>1.0</td>\n",
       "    </tr>\n",
       "    <tr>\n",
       "      <th>149</th>\n",
       "      <td>Пройдите игру и ознакомьтесь с сервисом «Перее...</td>\n",
       "      <td>1</td>\n",
       "      <td>1</td>\n",
       "      <td>1.0</td>\n",
       "    </tr>\n",
       "    <tr>\n",
       "      <th>160</th>\n",
       "      <td>Прохождение профтестирования</td>\n",
       "      <td>27</td>\n",
       "      <td>27</td>\n",
       "      <td>1.0</td>\n",
       "    </tr>\n",
       "    <tr>\n",
       "      <th>167</th>\n",
       "      <td>Рассказ о любимом парке «Покровский берег»</td>\n",
       "      <td>4</td>\n",
       "      <td>4</td>\n",
       "      <td>1.0</td>\n",
       "    </tr>\n",
       "  </tbody>\n",
       "</table>\n",
       "</div>"
      ],
      "text/plain": [
       "                                                  name  count_success  \\\n",
       "67         Мониторинг содержания контейнерных площадок         187673   \n",
       "230                Фиксация содержания бортового камня           1490   \n",
       "149  Пройдите игру и ознакомьтесь с сервисом «Перее...              1   \n",
       "160                       Прохождение профтестирования             27   \n",
       "167         Рассказ о любимом парке «Покровский берег»              4   \n",
       "\n",
       "     count_all  success_rate  \n",
       "67      187673           1.0  \n",
       "230       1490           1.0  \n",
       "149          1           1.0  \n",
       "160         27           1.0  \n",
       "167          4           1.0  "
      ]
     },
     "execution_count": 16,
     "metadata": {},
     "output_type": "execute_result"
    }
   ],
   "source": [
    "df_group.sort_values('success_rate', ascending=False).head(5)"
   ]
  },
  {
   "attachments": {
    "image.png": {
     "image/png": "[encoded data removed]"
    }
   },
   "cell_type": "markdown",
   "id": "fd7e2a90",
   "metadata": {},
   "source": [
    "Возникает небольшая проблемка с высоким success_rate для малого количества значений (строка 149, 167 и т.д.)\n",
    "\n",
    "Чтобы нейтрализовать этот эффект, при раcсчете success_rate добавлю в числитель и знаменатель + 1, согласно формуле\n",
    "![image.png](attachment:image.png)"
   ]
  },
  {
   "cell_type": "code",
   "execution_count": 17,
   "id": "4b684e1a",
   "metadata": {},
   "outputs": [],
   "source": [
    "# рассчитаю качество выполнения\n",
    "alpha = 1\n",
    "beta = 1\n",
    "df_group['success_rate2.0'] = round((df_group['count_success'] + alpha) / (df_group['count_all'] + alpha + beta), 2)"
   ]
  },
  {
   "cell_type": "code",
   "execution_count": 18,
   "id": "a75dc686",
   "metadata": {},
   "outputs": [
    {
     "data": {
      "text/html": [
       "<div>\n",
       "<style scoped>\n",
       "    .dataframe tbody tr th:only-of-type {\n",
       "        vertical-align: middle;\n",
       "    }\n",
       "\n",
       "    .dataframe tbody tr th {\n",
       "        vertical-align: top;\n",
       "    }\n",
       "\n",
       "    .dataframe thead th {\n",
       "        text-align: right;\n",
       "    }\n",
       "</style>\n",
       "<table border=\"1\" class=\"dataframe\">\n",
       "  <thead>\n",
       "    <tr style=\"text-align: right;\">\n",
       "      <th></th>\n",
       "      <th>name</th>\n",
       "      <th>count_success</th>\n",
       "      <th>count_all</th>\n",
       "      <th>success_rate</th>\n",
       "      <th>success_rate2.0</th>\n",
       "    </tr>\n",
       "  </thead>\n",
       "  <tbody>\n",
       "    <tr>\n",
       "      <th>67</th>\n",
       "      <td>Мониторинг содержания контейнерных площадок</td>\n",
       "      <td>187673</td>\n",
       "      <td>187673</td>\n",
       "      <td>1.0</td>\n",
       "      <td>1.0</td>\n",
       "    </tr>\n",
       "    <tr>\n",
       "      <th>230</th>\n",
       "      <td>Фиксация содержания бортового камня</td>\n",
       "      <td>1490</td>\n",
       "      <td>1490</td>\n",
       "      <td>1.0</td>\n",
       "      <td>1.0</td>\n",
       "    </tr>\n",
       "    <tr>\n",
       "      <th>66</th>\n",
       "      <td>Марафон заданий</td>\n",
       "      <td>1199</td>\n",
       "      <td>1199</td>\n",
       "      <td>1.0</td>\n",
       "      <td>1.0</td>\n",
       "    </tr>\n",
       "    <tr>\n",
       "      <th>18</th>\n",
       "      <td>Детекция объектов</td>\n",
       "      <td>28122</td>\n",
       "      <td>28122</td>\n",
       "      <td>1.0</td>\n",
       "      <td>1.0</td>\n",
       "    </tr>\n",
       "    <tr>\n",
       "      <th>229</th>\n",
       "      <td>Фиксация содержания асфальтобетонного покрытия</td>\n",
       "      <td>1463</td>\n",
       "      <td>1463</td>\n",
       "      <td>1.0</td>\n",
       "      <td>1.0</td>\n",
       "    </tr>\n",
       "  </tbody>\n",
       "</table>\n",
       "</div>"
      ],
      "text/plain": [
       "                                               name  count_success  count_all  \\\n",
       "67      Мониторинг содержания контейнерных площадок         187673     187673   \n",
       "230             Фиксация содержания бортового камня           1490       1490   \n",
       "66                                  Марафон заданий           1199       1199   \n",
       "18                                Детекция объектов          28122      28122   \n",
       "229  Фиксация содержания асфальтобетонного покрытия           1463       1463   \n",
       "\n",
       "     success_rate  success_rate2.0  \n",
       "67            1.0              1.0  \n",
       "230           1.0              1.0  \n",
       "66            1.0              1.0  \n",
       "18            1.0              1.0  \n",
       "229           1.0              1.0  "
      ]
     },
     "execution_count": 18,
     "metadata": {},
     "output_type": "execute_result"
    }
   ],
   "source": [
    "# эффект влияния малого количества заданий уменьшен\n",
    "df_group.sort_values('success_rate2.0', ascending=False).head(5)"
   ]
  },
  {
   "cell_type": "code",
   "execution_count": 19,
   "id": "ba27fb94",
   "metadata": {},
   "outputs": [],
   "source": [
    "df_result = df_group[['name', 'success_rate2.0']].sort_values('success_rate2.0', ascending=False)"
   ]
  },
  {
   "cell_type": "code",
   "execution_count": 20,
   "id": "d8f97bff",
   "metadata": {},
   "outputs": [
    {
     "data": {
      "text/html": [
       "<div>\n",
       "<style scoped>\n",
       "    .dataframe tbody tr th:only-of-type {\n",
       "        vertical-align: middle;\n",
       "    }\n",
       "\n",
       "    .dataframe tbody tr th {\n",
       "        vertical-align: top;\n",
       "    }\n",
       "\n",
       "    .dataframe thead th {\n",
       "        text-align: right;\n",
       "    }\n",
       "</style>\n",
       "<table border=\"1\" class=\"dataframe\">\n",
       "  <thead>\n",
       "    <tr style=\"text-align: right;\">\n",
       "      <th></th>\n",
       "      <th>name</th>\n",
       "      <th>success_rate2.0</th>\n",
       "    </tr>\n",
       "  </thead>\n",
       "  <tbody>\n",
       "    <tr>\n",
       "      <th>67</th>\n",
       "      <td>Мониторинг содержания контейнерных площадок</td>\n",
       "      <td>1.00</td>\n",
       "    </tr>\n",
       "    <tr>\n",
       "      <th>230</th>\n",
       "      <td>Фиксация содержания бортового камня</td>\n",
       "      <td>1.00</td>\n",
       "    </tr>\n",
       "    <tr>\n",
       "      <th>66</th>\n",
       "      <td>Марафон заданий</td>\n",
       "      <td>1.00</td>\n",
       "    </tr>\n",
       "    <tr>\n",
       "      <th>18</th>\n",
       "      <td>Детекция объектов</td>\n",
       "      <td>1.00</td>\n",
       "    </tr>\n",
       "    <tr>\n",
       "      <th>229</th>\n",
       "      <td>Фиксация содержания асфальтобетонного покрытия</td>\n",
       "      <td>1.00</td>\n",
       "    </tr>\n",
       "    <tr>\n",
       "      <th>...</th>\n",
       "      <td>...</td>\n",
       "      <td>...</td>\n",
       "    </tr>\n",
       "    <tr>\n",
       "      <th>79</th>\n",
       "      <td>Новые адреса счастья</td>\n",
       "      <td>0.16</td>\n",
       "    </tr>\n",
       "    <tr>\n",
       "      <th>109</th>\n",
       "      <td>Популяризация программы «Пушкинская карта»</td>\n",
       "      <td>0.14</td>\n",
       "    </tr>\n",
       "    <tr>\n",
       "      <th>246</th>\n",
       "      <td>Фотосъемка для участия в акции «Мой двор» прое...</td>\n",
       "      <td>0.13</td>\n",
       "    </tr>\n",
       "    <tr>\n",
       "      <th>126</th>\n",
       "      <td>Посетите экскурсию по скейт-парку и школе экст...</td>\n",
       "      <td>0.12</td>\n",
       "    </tr>\n",
       "    <tr>\n",
       "      <th>173</th>\n",
       "      <td>Рекомендация подключения автомобиля к сервису ...</td>\n",
       "      <td>0.04</td>\n",
       "    </tr>\n",
       "  </tbody>\n",
       "</table>\n",
       "<p>264 rows × 2 columns</p>\n",
       "</div>"
      ],
      "text/plain": [
       "                                                  name  success_rate2.0\n",
       "67         Мониторинг содержания контейнерных площадок             1.00\n",
       "230                Фиксация содержания бортового камня             1.00\n",
       "66                                     Марафон заданий             1.00\n",
       "18                                   Детекция объектов             1.00\n",
       "229     Фиксация содержания асфальтобетонного покрытия             1.00\n",
       "..                                                 ...              ...\n",
       "79                               Новые адреса счастья              0.16\n",
       "109         Популяризация программы «Пушкинская карта»             0.14\n",
       "246  Фотосъемка для участия в акции «Мой двор» прое...             0.13\n",
       "126  Посетите экскурсию по скейт-парку и школе экст...             0.12\n",
       "173  Рекомендация подключения автомобиля к сервису ...             0.04\n",
       "\n",
       "[264 rows x 2 columns]"
      ]
     },
     "execution_count": 20,
     "metadata": {},
     "output_type": "execute_result"
    }
   ],
   "source": [
    "df_result"
   ]
  },
  {
   "cell_type": "code",
   "execution_count": 21,
   "id": "8592c003",
   "metadata": {},
   "outputs": [],
   "source": [
    "df_result.to_csv('task_02_result.csv')"
   ]
  },
  {
   "cell_type": "code",
   "execution_count": null,
   "id": "623a684c",
   "metadata": {},
   "outputs": [],
   "source": []
  }
 ],
 "metadata": {
  "kernelspec": {
   "display_name": "Python 3 (ipykernel)",
   "language": "python",
   "name": "python3"
  },
  "language_info": {
   "codemirror_mode": {
    "name": "ipython",
    "version": 3
   },
   "file_extension": ".py",
   "mimetype": "text/x-python",
   "name": "python",
   "nbconvert_exporter": "python",
   "pygments_lexer": "ipython3",
   "version": "3.11.5"
  }
 },
 "nbformat": 4,
 "nbformat_minor": 5
}
