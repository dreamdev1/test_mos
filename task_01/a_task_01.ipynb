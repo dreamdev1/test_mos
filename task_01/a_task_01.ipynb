{
 "cells": [
  {
   "cell_type": "code",
   "execution_count": 1,
   "id": "998b7164",
   "metadata": {},
   "outputs": [],
   "source": [
    "import pandas as pd\n",
    "import numpy as np\n",
    "import duckdb # библиотека для работы с SQL\n",
    "import matplotlib.pyplot as plt\n",
    "import seaborn as sns"
   ]
  },
  {
   "cell_type": "code",
   "execution_count": 2,
   "id": "9c39a38d",
   "metadata": {},
   "outputs": [],
   "source": [
    "users = pd.read_csv('users.csv')\n",
    "sessions_closed = pd.read_csv('sessions_closed.csv')"
   ]
  },
  {
   "cell_type": "markdown",
   "id": "f0d4d7f0",
   "metadata": {},
   "source": [
    "#### Я заметил, что в таблице users отсутсвует некоторые пользователи, которые есть в таблице session_closed, и наоборот."
   ]
  },
  {
   "cell_type": "code",
   "execution_count": 3,
   "id": "6dabf67b",
   "metadata": {},
   "outputs": [],
   "source": [
    "sc_uniq = sessions_closed['user_id'].unique() # количество ункальных пользователей в таблице sessions_closed\n",
    "users_uniq = users['user_id'].unique() # количество ункальных пользователей в таблице users"
   ]
  },
  {
   "cell_type": "code",
   "execution_count": 4,
   "id": "d5524502",
   "metadata": {},
   "outputs": [
    {
     "data": {
      "text/plain": [
       "29694"
      ]
     },
     "execution_count": 4,
     "metadata": {},
     "output_type": "execute_result"
    }
   ],
   "source": [
    "# количество пользователей отсутсвующих в таблице users\n",
    "np.isin(sc_uniq, users_uniq, invert=True).sum()"
   ]
  },
  {
   "cell_type": "code",
   "execution_count": 5,
   "id": "605ccc74",
   "metadata": {
    "scrolled": true
   },
   "outputs": [
    {
     "data": {
      "text/plain": [
       "85591"
      ]
     },
     "execution_count": 5,
     "metadata": {},
     "output_type": "execute_result"
    }
   ],
   "source": [
    "# количество пользователей отсутсвующих в таблице sessions_closed\n",
    "np.isin(users_uniq, sc_uniq, invert=True).sum()"
   ]
  },
  {
   "cell_type": "markdown",
   "id": "245a24e4",
   "metadata": {},
   "source": [
    "Пользователи из таблицы session_closed для нас важнее, так как там содержится информация об их действиях. Значит за основу берем таблицу session_closed, при этом у некоторых пользователей будут отсутствовать параметры role и create_at(дата регистрации). Выполню SQL запрос и с помощью LEFT JOIN соеденю таблицы. Также сразу приведу даты к нужному типу данных"
   ]
  },
  {
   "cell_type": "code",
   "execution_count": 6,
   "id": "aec309f8",
   "metadata": {},
   "outputs": [],
   "source": [
    "# это будет наш основной запрос\n",
    "query = ''' \n",
    "SELECT \n",
    "    sc.user_id, \n",
    "    u.role,\n",
    "    strftime('%Y-%m-%d', STRPTIME(u.create_at, '%d/%m/%y %H:%M'))::date as registration_date,\n",
    "    sc.id as session_id,\n",
    "    sc.status,\n",
    "    sc.created_at::date as created_at,\n",
    "    sc.updated_at::date as updated_at\n",
    "    FROM sessions_closed sc\n",
    "LEFT JOIN users u ON u.user_id = sc.user_id\n",
    "'''"
   ]
  },
  {
   "cell_type": "code",
   "execution_count": 7,
   "id": "93d37eda",
   "metadata": {},
   "outputs": [],
   "source": [
    "df_result = duckdb.query(query).to_df()"
   ]
  },
  {
   "cell_type": "code",
   "execution_count": 8,
   "id": "4c04e22f",
   "metadata": {},
   "outputs": [
    {
     "data": {
      "text/html": [
       "<div>\n",
       "<style scoped>\n",
       "    .dataframe tbody tr th:only-of-type {\n",
       "        vertical-align: middle;\n",
       "    }\n",
       "\n",
       "    .dataframe tbody tr th {\n",
       "        vertical-align: top;\n",
       "    }\n",
       "\n",
       "    .dataframe thead th {\n",
       "        text-align: right;\n",
       "    }\n",
       "</style>\n",
       "<table border=\"1\" class=\"dataframe\">\n",
       "  <thead>\n",
       "    <tr style=\"text-align: right;\">\n",
       "      <th></th>\n",
       "      <th>user_id</th>\n",
       "      <th>role</th>\n",
       "      <th>registration_date</th>\n",
       "      <th>session_id</th>\n",
       "      <th>status</th>\n",
       "      <th>created_at</th>\n",
       "      <th>updated_at</th>\n",
       "    </tr>\n",
       "  </thead>\n",
       "  <tbody>\n",
       "    <tr>\n",
       "      <th>0</th>\n",
       "      <td>213367</td>\n",
       "      <td>full</td>\n",
       "      <td>2023-11-25</td>\n",
       "      <td>2201484</td>\n",
       "      <td>102</td>\n",
       "      <td>2023-11-25</td>\n",
       "      <td>2023-11-25</td>\n",
       "    </tr>\n",
       "    <tr>\n",
       "      <th>1</th>\n",
       "      <td>138374</td>\n",
       "      <td>full</td>\n",
       "      <td>2023-06-18</td>\n",
       "      <td>2201487</td>\n",
       "      <td>102</td>\n",
       "      <td>2023-11-25</td>\n",
       "      <td>2023-12-02</td>\n",
       "    </tr>\n",
       "    <tr>\n",
       "      <th>2</th>\n",
       "      <td>87639</td>\n",
       "      <td>full</td>\n",
       "      <td>2022-11-10</td>\n",
       "      <td>2201496</td>\n",
       "      <td>100</td>\n",
       "      <td>2023-11-25</td>\n",
       "      <td>2023-11-26</td>\n",
       "    </tr>\n",
       "    <tr>\n",
       "      <th>3</th>\n",
       "      <td>9651</td>\n",
       "      <td>full</td>\n",
       "      <td>2022-01-31</td>\n",
       "      <td>2201499</td>\n",
       "      <td>103</td>\n",
       "      <td>2023-11-25</td>\n",
       "      <td>2023-11-30</td>\n",
       "    </tr>\n",
       "    <tr>\n",
       "      <th>4</th>\n",
       "      <td>52626</td>\n",
       "      <td>full</td>\n",
       "      <td>2022-08-18</td>\n",
       "      <td>2201514</td>\n",
       "      <td>103</td>\n",
       "      <td>2023-11-25</td>\n",
       "      <td>2023-11-30</td>\n",
       "    </tr>\n",
       "  </tbody>\n",
       "</table>\n",
       "</div>"
      ],
      "text/plain": [
       "   user_id  role registration_date  session_id  status created_at updated_at\n",
       "0   213367  full        2023-11-25     2201484     102 2023-11-25 2023-11-25\n",
       "1   138374  full        2023-06-18     2201487     102 2023-11-25 2023-12-02\n",
       "2    87639  full        2022-11-10     2201496     100 2023-11-25 2023-11-26\n",
       "3     9651  full        2022-01-31     2201499     103 2023-11-25 2023-11-30\n",
       "4    52626  full        2022-08-18     2201514     103 2023-11-25 2023-11-30"
      ]
     },
     "execution_count": 8,
     "metadata": {},
     "output_type": "execute_result"
    }
   ],
   "source": [
    "df_result.head()"
   ]
  },
  {
   "cell_type": "code",
   "execution_count": 9,
   "id": "14f7b8d5",
   "metadata": {},
   "outputs": [
    {
     "data": {
      "text/plain": [
       "(748123, 7)"
      ]
     },
     "execution_count": 9,
     "metadata": {},
     "output_type": "execute_result"
    }
   ],
   "source": [
    "df_result.shape"
   ]
  },
  {
   "cell_type": "code",
   "execution_count": 10,
   "id": "a7195f5d",
   "metadata": {},
   "outputs": [
    {
     "data": {
      "text/plain": [
       "0"
      ]
     },
     "execution_count": 10,
     "metadata": {},
     "output_type": "execute_result"
    }
   ],
   "source": [
    "# посмотрю количество дубликатов\n",
    "df_result.duplicated().sum()"
   ]
  },
  {
   "cell_type": "code",
   "execution_count": 11,
   "id": "89fcfb63",
   "metadata": {},
   "outputs": [
    {
     "data": {
      "text/html": [
       "<div>\n",
       "<style scoped>\n",
       "    .dataframe tbody tr th:only-of-type {\n",
       "        vertical-align: middle;\n",
       "    }\n",
       "\n",
       "    .dataframe tbody tr th {\n",
       "        vertical-align: top;\n",
       "    }\n",
       "\n",
       "    .dataframe thead th {\n",
       "        text-align: right;\n",
       "    }\n",
       "</style>\n",
       "<table border=\"1\" class=\"dataframe\">\n",
       "  <thead>\n",
       "    <tr style=\"text-align: right;\">\n",
       "      <th></th>\n",
       "      <th>user_id</th>\n",
       "      <th>role</th>\n",
       "      <th>registration_date</th>\n",
       "      <th>session_id</th>\n",
       "      <th>status</th>\n",
       "      <th>created_at</th>\n",
       "      <th>updated_at</th>\n",
       "    </tr>\n",
       "  </thead>\n",
       "  <tbody>\n",
       "    <tr>\n",
       "      <th>1022</th>\n",
       "      <td>150034</td>\n",
       "      <td>None</td>\n",
       "      <td>NaT</td>\n",
       "      <td>2201490</td>\n",
       "      <td>103</td>\n",
       "      <td>2023-11-25</td>\n",
       "      <td>2023-11-29</td>\n",
       "    </tr>\n",
       "    <tr>\n",
       "      <th>1023</th>\n",
       "      <td>198504</td>\n",
       "      <td>None</td>\n",
       "      <td>NaT</td>\n",
       "      <td>2201493</td>\n",
       "      <td>102</td>\n",
       "      <td>2023-11-25</td>\n",
       "      <td>2023-11-26</td>\n",
       "    </tr>\n",
       "    <tr>\n",
       "      <th>1024</th>\n",
       "      <td>213369</td>\n",
       "      <td>None</td>\n",
       "      <td>NaT</td>\n",
       "      <td>2201502</td>\n",
       "      <td>103</td>\n",
       "      <td>2023-11-25</td>\n",
       "      <td>2023-12-08</td>\n",
       "    </tr>\n",
       "    <tr>\n",
       "      <th>1025</th>\n",
       "      <td>168429</td>\n",
       "      <td>None</td>\n",
       "      <td>NaT</td>\n",
       "      <td>2201505</td>\n",
       "      <td>103</td>\n",
       "      <td>2023-11-25</td>\n",
       "      <td>2023-11-29</td>\n",
       "    </tr>\n",
       "    <tr>\n",
       "      <th>1026</th>\n",
       "      <td>121639</td>\n",
       "      <td>None</td>\n",
       "      <td>NaT</td>\n",
       "      <td>2201508</td>\n",
       "      <td>102</td>\n",
       "      <td>2023-11-25</td>\n",
       "      <td>2023-11-25</td>\n",
       "    </tr>\n",
       "    <tr>\n",
       "      <th>...</th>\n",
       "      <td>...</td>\n",
       "      <td>...</td>\n",
       "      <td>...</td>\n",
       "      <td>...</td>\n",
       "      <td>...</td>\n",
       "      <td>...</td>\n",
       "      <td>...</td>\n",
       "    </tr>\n",
       "    <tr>\n",
       "      <th>748118</th>\n",
       "      <td>52281</td>\n",
       "      <td>None</td>\n",
       "      <td>NaT</td>\n",
       "      <td>615916</td>\n",
       "      <td>103</td>\n",
       "      <td>2022-08-25</td>\n",
       "      <td>2022-08-30</td>\n",
       "    </tr>\n",
       "    <tr>\n",
       "      <th>748119</th>\n",
       "      <td>4157</td>\n",
       "      <td>None</td>\n",
       "      <td>NaT</td>\n",
       "      <td>615922</td>\n",
       "      <td>100</td>\n",
       "      <td>2022-08-25</td>\n",
       "      <td>2022-08-26</td>\n",
       "    </tr>\n",
       "    <tr>\n",
       "      <th>748120</th>\n",
       "      <td>54863</td>\n",
       "      <td>None</td>\n",
       "      <td>NaT</td>\n",
       "      <td>615937</td>\n",
       "      <td>102</td>\n",
       "      <td>2022-08-25</td>\n",
       "      <td>2022-08-26</td>\n",
       "    </tr>\n",
       "    <tr>\n",
       "      <th>748121</th>\n",
       "      <td>23876</td>\n",
       "      <td>None</td>\n",
       "      <td>NaT</td>\n",
       "      <td>615946</td>\n",
       "      <td>103</td>\n",
       "      <td>2022-08-26</td>\n",
       "      <td>2022-08-29</td>\n",
       "    </tr>\n",
       "    <tr>\n",
       "      <th>748122</th>\n",
       "      <td>35712</td>\n",
       "      <td>None</td>\n",
       "      <td>NaT</td>\n",
       "      <td>615949</td>\n",
       "      <td>103</td>\n",
       "      <td>2022-08-26</td>\n",
       "      <td>2022-08-29</td>\n",
       "    </tr>\n",
       "  </tbody>\n",
       "</table>\n",
       "<p>372606 rows × 7 columns</p>\n",
       "</div>"
      ],
      "text/plain": [
       "        user_id  role registration_date  session_id  status created_at  \\\n",
       "1022     150034  None               NaT     2201490     103 2023-11-25   \n",
       "1023     198504  None               NaT     2201493     102 2023-11-25   \n",
       "1024     213369  None               NaT     2201502     103 2023-11-25   \n",
       "1025     168429  None               NaT     2201505     103 2023-11-25   \n",
       "1026     121639  None               NaT     2201508     102 2023-11-25   \n",
       "...         ...   ...               ...         ...     ...        ...   \n",
       "748118    52281  None               NaT      615916     103 2022-08-25   \n",
       "748119     4157  None               NaT      615922     100 2022-08-25   \n",
       "748120    54863  None               NaT      615937     102 2022-08-25   \n",
       "748121    23876  None               NaT      615946     103 2022-08-26   \n",
       "748122    35712  None               NaT      615949     103 2022-08-26   \n",
       "\n",
       "       updated_at  \n",
       "1022   2023-11-29  \n",
       "1023   2023-11-26  \n",
       "1024   2023-12-08  \n",
       "1025   2023-11-29  \n",
       "1026   2023-11-25  \n",
       "...           ...  \n",
       "748118 2022-08-30  \n",
       "748119 2022-08-26  \n",
       "748120 2022-08-26  \n",
       "748121 2022-08-29  \n",
       "748122 2022-08-29  \n",
       "\n",
       "[372606 rows x 7 columns]"
      ]
     },
     "execution_count": 11,
     "metadata": {},
     "output_type": "execute_result"
    }
   ],
   "source": [
    "df_result.loc[df_result['role'].isna()]"
   ]
  },
  {
   "cell_type": "code",
   "execution_count": 12,
   "id": "66ad448f",
   "metadata": {},
   "outputs": [
    {
     "name": "stdout",
     "output_type": "stream",
     "text": [
      "<class 'pandas.core.frame.DataFrame'>\n",
      "RangeIndex: 748123 entries, 0 to 748122\n",
      "Data columns (total 7 columns):\n",
      " #   Column             Non-Null Count   Dtype         \n",
      "---  ------             --------------   -----         \n",
      " 0   user_id            748123 non-null  int64         \n",
      " 1   role               375517 non-null  object        \n",
      " 2   registration_date  375517 non-null  datetime64[us]\n",
      " 3   session_id         748123 non-null  int64         \n",
      " 4   status             748123 non-null  int64         \n",
      " 5   created_at         748123 non-null  datetime64[us]\n",
      " 6   updated_at         748123 non-null  datetime64[us]\n",
      "dtypes: datetime64[us](3), int64(3), object(1)\n",
      "memory usage: 40.0+ MB\n"
     ]
    }
   ],
   "source": [
    "# посмотрю в целом на данные\n",
    "df_result.info()"
   ]
  },
  {
   "cell_type": "code",
   "execution_count": 13,
   "id": "25db5e62",
   "metadata": {},
   "outputs": [
    {
     "data": {
      "text/plain": [
       "role\n",
       "full          371330\n",
       "standard        4175\n",
       "simplified        12\n",
       "Name: count, dtype: int64"
      ]
     },
     "execution_count": 13,
     "metadata": {},
     "output_type": "execute_result"
    }
   ],
   "source": [
    "# поработаю с пропущенными значениями столбцы role и registration_date\n",
    "# в столбце role в основной массе представлены значения full\n",
    "df_result['role'].value_counts()"
   ]
  },
  {
   "cell_type": "code",
   "execution_count": 14,
   "id": "0328716b",
   "metadata": {},
   "outputs": [],
   "source": [
    "# в столюце role, заменю все пропущенные значения на full\n",
    "df_result['role'] = df_result['role'].fillna('full')"
   ]
  },
  {
   "cell_type": "markdown",
   "id": "7e225116",
   "metadata": {},
   "source": [
    "#### С заменой пропущенных значений в столбце 'registration_date' есть несколько вариантов\n",
    "1) Так как user_id идут по порядку, то можно было бы для пропущенного значения 'registration_date' брать дату регистрации предыдущего по порядку юзера\n",
    "2) Выбираю вариант немного проще. Пуска дата регистрации будет равна дате создания первой сессии"
   ]
  },
  {
   "cell_type": "code",
   "execution_count": 15,
   "id": "1f640038",
   "metadata": {},
   "outputs": [],
   "source": [
    "df_result['registration_date'] = df_result['registration_date'].fillna(df_result['created_at'] )"
   ]
  },
  {
   "cell_type": "code",
   "execution_count": 16,
   "id": "29e216d5",
   "metadata": {},
   "outputs": [
    {
     "name": "stdout",
     "output_type": "stream",
     "text": [
      "<class 'pandas.core.frame.DataFrame'>\n",
      "RangeIndex: 748123 entries, 0 to 748122\n",
      "Data columns (total 7 columns):\n",
      " #   Column             Non-Null Count   Dtype         \n",
      "---  ------             --------------   -----         \n",
      " 0   user_id            748123 non-null  int64         \n",
      " 1   role               748123 non-null  object        \n",
      " 2   registration_date  748123 non-null  datetime64[us]\n",
      " 3   session_id         748123 non-null  int64         \n",
      " 4   status             748123 non-null  int64         \n",
      " 5   created_at         748123 non-null  datetime64[us]\n",
      " 6   updated_at         748123 non-null  datetime64[us]\n",
      "dtypes: datetime64[us](3), int64(3), object(1)\n",
      "memory usage: 40.0+ MB\n"
     ]
    }
   ],
   "source": [
    "# пропущенных значений нет\n",
    "df_result.info()"
   ]
  },
  {
   "cell_type": "markdown",
   "id": "2bebf9bd",
   "metadata": {},
   "source": [
    "#### Предобработка данных завершина, перейду к группировкам.\n",
    "Сгруппирую данные по user_id и role, и найду дату регистрации для каждого пользователя"
   ]
  },
  {
   "cell_type": "code",
   "execution_count": 17,
   "id": "742fb761",
   "metadata": {},
   "outputs": [],
   "source": [
    "df_reg_date = df_result.groupby(['user_id', 'role'], as_index=False).agg({'registration_date':'min'})"
   ]
  },
  {
   "cell_type": "markdown",
   "id": "561405e4",
   "metadata": {},
   "source": [
    "Найду дату последней активности. Буду искать дату последней активности в зависимости от статуса\n",
    "- 103 - дата последней активности = updated_at\n",
    "- 102 - дата последней активности = created_at\n",
    "- 100 - дата последней активности = created_at\n",
    "- 101 - дата последней активности = updated_at"
   ]
  },
  {
   "cell_type": "code",
   "execution_count": 18,
   "id": "953822fd",
   "metadata": {},
   "outputs": [],
   "source": [
    "di = {103:'updated_at', 102:'created_at', 100:'created_at', 101:'updated_at'}"
   ]
  },
  {
   "cell_type": "code",
   "execution_count": 19,
   "id": "9f634321",
   "metadata": {},
   "outputs": [],
   "source": [
    "df_result['last_active_date'] = df_result.apply(\n",
    "    lambda x: x['updated_at'] if x['status'] in (101, 103) else x['created_at'], axis=1\n",
    ")"
   ]
  },
  {
   "cell_type": "code",
   "execution_count": 20,
   "id": "30de5d31",
   "metadata": {},
   "outputs": [],
   "source": [
    "df_last_active_date = df_result.groupby('user_id', as_index=False)['last_active_date'].max()"
   ]
  },
  {
   "cell_type": "markdown",
   "id": "fc735cb2",
   "metadata": {},
   "source": [
    "#### Выполню расчет количества успешных выполнений заданий в разрезе года"
   ]
  },
  {
   "cell_type": "code",
   "execution_count": 21,
   "id": "e9566d06",
   "metadata": {},
   "outputs": [],
   "source": [
    "# оставляю данные со статусом 103\n",
    "count_success_year = df_result.loc[df_result['status'] == 103].copy()"
   ]
  },
  {
   "cell_type": "code",
   "execution_count": 22,
   "id": "77402c90",
   "metadata": {},
   "outputs": [
    {
     "data": {
      "text/plain": [
       "(636990, 8)"
      ]
     },
     "execution_count": 22,
     "metadata": {},
     "output_type": "execute_result"
    }
   ],
   "source": [
    "count_success_year.shape"
   ]
  },
  {
   "cell_type": "code",
   "execution_count": 23,
   "id": "b3d3ca29",
   "metadata": {},
   "outputs": [],
   "source": [
    "# добавлю колонку с годом\n",
    "count_success_year['year'] = count_success_year['updated_at'].dt.year"
   ]
  },
  {
   "cell_type": "code",
   "execution_count": 24,
   "id": "76db434f",
   "metadata": {},
   "outputs": [],
   "source": [
    "# сгруппировал данные по пользователям и годам, и посчитал количество сессий для каждого года\n",
    "count_success_year = count_success_year.groupby(['user_id', 'year'], as_index=False).size()"
   ]
  },
  {
   "cell_type": "code",
   "execution_count": 25,
   "id": "6c86abb1",
   "metadata": {},
   "outputs": [],
   "source": [
    "# использую pivot, чтобы года стали колонками\n",
    "count_success_year = count_success_year.pivot(index='user_id', columns='year', values='size').reset_index().fillna(0)"
   ]
  },
  {
   "cell_type": "code",
   "execution_count": 26,
   "id": "b740e4d3",
   "metadata": {},
   "outputs": [
    {
     "data": {
      "text/html": [
       "<div>\n",
       "<style scoped>\n",
       "    .dataframe tbody tr th:only-of-type {\n",
       "        vertical-align: middle;\n",
       "    }\n",
       "\n",
       "    .dataframe tbody tr th {\n",
       "        vertical-align: top;\n",
       "    }\n",
       "\n",
       "    .dataframe thead th {\n",
       "        text-align: right;\n",
       "    }\n",
       "</style>\n",
       "<table border=\"1\" class=\"dataframe\">\n",
       "  <thead>\n",
       "    <tr style=\"text-align: right;\">\n",
       "      <th>year</th>\n",
       "      <th>user_id</th>\n",
       "      <th>2021</th>\n",
       "      <th>2022</th>\n",
       "      <th>2023</th>\n",
       "      <th>2024</th>\n",
       "    </tr>\n",
       "  </thead>\n",
       "  <tbody>\n",
       "    <tr>\n",
       "      <th>0</th>\n",
       "      <td>79</td>\n",
       "      <td>1.0</td>\n",
       "      <td>2.0</td>\n",
       "      <td>1.0</td>\n",
       "      <td>0.0</td>\n",
       "    </tr>\n",
       "    <tr>\n",
       "      <th>1</th>\n",
       "      <td>80</td>\n",
       "      <td>2.0</td>\n",
       "      <td>1.0</td>\n",
       "      <td>1.0</td>\n",
       "      <td>0.0</td>\n",
       "    </tr>\n",
       "    <tr>\n",
       "      <th>2</th>\n",
       "      <td>82</td>\n",
       "      <td>1.0</td>\n",
       "      <td>0.0</td>\n",
       "      <td>0.0</td>\n",
       "      <td>0.0</td>\n",
       "    </tr>\n",
       "    <tr>\n",
       "      <th>3</th>\n",
       "      <td>83</td>\n",
       "      <td>2.0</td>\n",
       "      <td>3.0</td>\n",
       "      <td>1.0</td>\n",
       "      <td>0.0</td>\n",
       "    </tr>\n",
       "    <tr>\n",
       "      <th>4</th>\n",
       "      <td>84</td>\n",
       "      <td>2.0</td>\n",
       "      <td>5.0</td>\n",
       "      <td>1.0</td>\n",
       "      <td>0.0</td>\n",
       "    </tr>\n",
       "    <tr>\n",
       "      <th>...</th>\n",
       "      <td>...</td>\n",
       "      <td>...</td>\n",
       "      <td>...</td>\n",
       "      <td>...</td>\n",
       "      <td>...</td>\n",
       "    </tr>\n",
       "    <tr>\n",
       "      <th>46598</th>\n",
       "      <td>231159</td>\n",
       "      <td>0.0</td>\n",
       "      <td>0.0</td>\n",
       "      <td>0.0</td>\n",
       "      <td>1.0</td>\n",
       "    </tr>\n",
       "    <tr>\n",
       "      <th>46599</th>\n",
       "      <td>231193</td>\n",
       "      <td>0.0</td>\n",
       "      <td>0.0</td>\n",
       "      <td>1.0</td>\n",
       "      <td>0.0</td>\n",
       "    </tr>\n",
       "    <tr>\n",
       "      <th>46600</th>\n",
       "      <td>231195</td>\n",
       "      <td>0.0</td>\n",
       "      <td>0.0</td>\n",
       "      <td>1.0</td>\n",
       "      <td>0.0</td>\n",
       "    </tr>\n",
       "    <tr>\n",
       "      <th>46601</th>\n",
       "      <td>231197</td>\n",
       "      <td>0.0</td>\n",
       "      <td>0.0</td>\n",
       "      <td>0.0</td>\n",
       "      <td>1.0</td>\n",
       "    </tr>\n",
       "    <tr>\n",
       "      <th>46602</th>\n",
       "      <td>231204</td>\n",
       "      <td>0.0</td>\n",
       "      <td>0.0</td>\n",
       "      <td>0.0</td>\n",
       "      <td>1.0</td>\n",
       "    </tr>\n",
       "  </tbody>\n",
       "</table>\n",
       "<p>46603 rows × 5 columns</p>\n",
       "</div>"
      ],
      "text/plain": [
       "year   user_id  2021  2022  2023  2024\n",
       "0           79   1.0   2.0   1.0   0.0\n",
       "1           80   2.0   1.0   1.0   0.0\n",
       "2           82   1.0   0.0   0.0   0.0\n",
       "3           83   2.0   3.0   1.0   0.0\n",
       "4           84   2.0   5.0   1.0   0.0\n",
       "...        ...   ...   ...   ...   ...\n",
       "46598   231159   0.0   0.0   0.0   1.0\n",
       "46599   231193   0.0   0.0   1.0   0.0\n",
       "46600   231195   0.0   0.0   1.0   0.0\n",
       "46601   231197   0.0   0.0   0.0   1.0\n",
       "46602   231204   0.0   0.0   0.0   1.0\n",
       "\n",
       "[46603 rows x 5 columns]"
      ]
     },
     "execution_count": 26,
     "metadata": {},
     "output_type": "execute_result"
    }
   ],
   "source": [
    "count_success_year"
   ]
  },
  {
   "cell_type": "markdown",
   "id": "9bb5ad54",
   "metadata": {},
   "source": [
    "### У нас получилось 3 датафрейма. Проверю их размерность, а затем соединю между собой"
   ]
  },
  {
   "cell_type": "code",
   "execution_count": 27,
   "id": "f9443649",
   "metadata": {},
   "outputs": [
    {
     "data": {
      "text/plain": [
       "(59456, 2)"
      ]
     },
     "execution_count": 27,
     "metadata": {},
     "output_type": "execute_result"
    }
   ],
   "source": [
    "df_last_active_date.shape"
   ]
  },
  {
   "cell_type": "code",
   "execution_count": 28,
   "id": "ca75b063",
   "metadata": {},
   "outputs": [
    {
     "data": {
      "text/plain": [
       "(59456, 3)"
      ]
     },
     "execution_count": 28,
     "metadata": {},
     "output_type": "execute_result"
    }
   ],
   "source": [
    "df_reg_date.shape"
   ]
  },
  {
   "cell_type": "code",
   "execution_count": 29,
   "id": "faea8b3b",
   "metadata": {},
   "outputs": [
    {
     "data": {
      "text/plain": [
       "(46603, 5)"
      ]
     },
     "execution_count": 29,
     "metadata": {},
     "output_type": "execute_result"
    }
   ],
   "source": [
    "count_success_year.shape"
   ]
  },
  {
   "cell_type": "markdown",
   "id": "c3b62b1e",
   "metadata": {},
   "source": [
    "В датафрейме count_success_year 46603 строк, а в двух других датафреймах 59456. Это произошло из-за того, что не все пользователи выполнили хотя бы одно успешное задание со статусом = 103"
   ]
  },
  {
   "cell_type": "code",
   "execution_count": 30,
   "id": "5db4f827",
   "metadata": {},
   "outputs": [],
   "source": [
    "df_result = pd.merge(df_reg_date, df_last_active_date, how='inner', on='user_id')"
   ]
  },
  {
   "cell_type": "code",
   "execution_count": 31,
   "id": "cea89812",
   "metadata": {},
   "outputs": [],
   "source": [
    "df_result = pd.merge(df_result, count_success_year, how='left', on='user_id')"
   ]
  },
  {
   "cell_type": "code",
   "execution_count": 32,
   "id": "4863da1a",
   "metadata": {},
   "outputs": [
    {
     "data": {
      "text/html": [
       "<div>\n",
       "<style scoped>\n",
       "    .dataframe tbody tr th:only-of-type {\n",
       "        vertical-align: middle;\n",
       "    }\n",
       "\n",
       "    .dataframe tbody tr th {\n",
       "        vertical-align: top;\n",
       "    }\n",
       "\n",
       "    .dataframe thead th {\n",
       "        text-align: right;\n",
       "    }\n",
       "</style>\n",
       "<table border=\"1\" class=\"dataframe\">\n",
       "  <thead>\n",
       "    <tr style=\"text-align: right;\">\n",
       "      <th></th>\n",
       "      <th>user_id</th>\n",
       "      <th>role</th>\n",
       "      <th>registration_date</th>\n",
       "      <th>last_active_date</th>\n",
       "      <th>2021</th>\n",
       "      <th>2022</th>\n",
       "      <th>2023</th>\n",
       "      <th>2024</th>\n",
       "    </tr>\n",
       "  </thead>\n",
       "  <tbody>\n",
       "    <tr>\n",
       "      <th>48314</th>\n",
       "      <td>165258</td>\n",
       "      <td>full</td>\n",
       "      <td>2023-08-27</td>\n",
       "      <td>2023-08-27</td>\n",
       "      <td>NaN</td>\n",
       "      <td>NaN</td>\n",
       "      <td>NaN</td>\n",
       "      <td>NaN</td>\n",
       "    </tr>\n",
       "    <tr>\n",
       "      <th>6239</th>\n",
       "      <td>11442</td>\n",
       "      <td>full</td>\n",
       "      <td>2022-02-08</td>\n",
       "      <td>2022-06-17</td>\n",
       "      <td>0.0</td>\n",
       "      <td>1.0</td>\n",
       "      <td>0.0</td>\n",
       "      <td>0.0</td>\n",
       "    </tr>\n",
       "    <tr>\n",
       "      <th>17456</th>\n",
       "      <td>38849</td>\n",
       "      <td>full</td>\n",
       "      <td>2022-07-23</td>\n",
       "      <td>2022-07-23</td>\n",
       "      <td>0.0</td>\n",
       "      <td>1.0</td>\n",
       "      <td>0.0</td>\n",
       "      <td>0.0</td>\n",
       "    </tr>\n",
       "    <tr>\n",
       "      <th>1365</th>\n",
       "      <td>2213</td>\n",
       "      <td>full</td>\n",
       "      <td>2022-05-29</td>\n",
       "      <td>2022-05-29</td>\n",
       "      <td>0.0</td>\n",
       "      <td>1.0</td>\n",
       "      <td>0.0</td>\n",
       "      <td>0.0</td>\n",
       "    </tr>\n",
       "    <tr>\n",
       "      <th>3499</th>\n",
       "      <td>5566</td>\n",
       "      <td>full</td>\n",
       "      <td>2022-01-13</td>\n",
       "      <td>2023-11-25</td>\n",
       "      <td>0.0</td>\n",
       "      <td>22.0</td>\n",
       "      <td>8.0</td>\n",
       "      <td>0.0</td>\n",
       "    </tr>\n",
       "    <tr>\n",
       "      <th>16701</th>\n",
       "      <td>36859</td>\n",
       "      <td>full</td>\n",
       "      <td>2022-07-20</td>\n",
       "      <td>2022-07-20</td>\n",
       "      <td>0.0</td>\n",
       "      <td>1.0</td>\n",
       "      <td>0.0</td>\n",
       "      <td>0.0</td>\n",
       "    </tr>\n",
       "    <tr>\n",
       "      <th>9697</th>\n",
       "      <td>19312</td>\n",
       "      <td>full</td>\n",
       "      <td>2022-03-19</td>\n",
       "      <td>2022-11-21</td>\n",
       "      <td>0.0</td>\n",
       "      <td>1.0</td>\n",
       "      <td>0.0</td>\n",
       "      <td>0.0</td>\n",
       "    </tr>\n",
       "    <tr>\n",
       "      <th>8979</th>\n",
       "      <td>17603</td>\n",
       "      <td>full</td>\n",
       "      <td>2022-03-17</td>\n",
       "      <td>2022-03-17</td>\n",
       "      <td>0.0</td>\n",
       "      <td>1.0</td>\n",
       "      <td>0.0</td>\n",
       "      <td>0.0</td>\n",
       "    </tr>\n",
       "    <tr>\n",
       "      <th>14991</th>\n",
       "      <td>32327</td>\n",
       "      <td>full</td>\n",
       "      <td>2022-06-17</td>\n",
       "      <td>2023-08-21</td>\n",
       "      <td>0.0</td>\n",
       "      <td>2.0</td>\n",
       "      <td>1.0</td>\n",
       "      <td>0.0</td>\n",
       "    </tr>\n",
       "    <tr>\n",
       "      <th>3751</th>\n",
       "      <td>6080</td>\n",
       "      <td>full</td>\n",
       "      <td>2021-12-22</td>\n",
       "      <td>2022-01-10</td>\n",
       "      <td>1.0</td>\n",
       "      <td>1.0</td>\n",
       "      <td>0.0</td>\n",
       "      <td>0.0</td>\n",
       "    </tr>\n",
       "  </tbody>\n",
       "</table>\n",
       "</div>"
      ],
      "text/plain": [
       "       user_id  role registration_date last_active_date  2021  2022  2023  \\\n",
       "48314   165258  full        2023-08-27       2023-08-27   NaN   NaN   NaN   \n",
       "6239     11442  full        2022-02-08       2022-06-17   0.0   1.0   0.0   \n",
       "17456    38849  full        2022-07-23       2022-07-23   0.0   1.0   0.0   \n",
       "1365      2213  full        2022-05-29       2022-05-29   0.0   1.0   0.0   \n",
       "3499      5566  full        2022-01-13       2023-11-25   0.0  22.0   8.0   \n",
       "16701    36859  full        2022-07-20       2022-07-20   0.0   1.0   0.0   \n",
       "9697     19312  full        2022-03-19       2022-11-21   0.0   1.0   0.0   \n",
       "8979     17603  full        2022-03-17       2022-03-17   0.0   1.0   0.0   \n",
       "14991    32327  full        2022-06-17       2023-08-21   0.0   2.0   1.0   \n",
       "3751      6080  full        2021-12-22       2022-01-10   1.0   1.0   0.0   \n",
       "\n",
       "       2024  \n",
       "48314   NaN  \n",
       "6239    0.0  \n",
       "17456   0.0  \n",
       "1365    0.0  \n",
       "3499    0.0  \n",
       "16701   0.0  \n",
       "9697    0.0  \n",
       "8979    0.0  \n",
       "14991   0.0  \n",
       "3751    0.0  "
      ]
     },
     "execution_count": 32,
     "metadata": {},
     "output_type": "execute_result"
    }
   ],
   "source": [
    "df_result.sample(10)"
   ]
  },
  {
   "cell_type": "markdown",
   "id": "f8a9b129",
   "metadata": {},
   "source": [
    "Заменю пропущенные значения в столбцах с годами на нули."
   ]
  },
  {
   "cell_type": "code",
   "execution_count": 33,
   "id": "1bef4787",
   "metadata": {},
   "outputs": [],
   "source": [
    "df_result[[2021, 2022, 2023, 2024]] = df_result[[2021, 2022, 2023, 2024]].fillna(0)"
   ]
  },
  {
   "cell_type": "code",
   "execution_count": 34,
   "id": "5c29ecf9",
   "metadata": {},
   "outputs": [],
   "source": [
    "# приведу типы данных к формату int\n",
    "df_result[[2021, 2022, 2023, 2024]] = df_result[[2021, 2022, 2023, 2024]].astype(int)"
   ]
  },
  {
   "cell_type": "code",
   "execution_count": 35,
   "id": "e7b83790",
   "metadata": {},
   "outputs": [
    {
     "data": {
      "text/html": [
       "<div>\n",
       "<style scoped>\n",
       "    .dataframe tbody tr th:only-of-type {\n",
       "        vertical-align: middle;\n",
       "    }\n",
       "\n",
       "    .dataframe tbody tr th {\n",
       "        vertical-align: top;\n",
       "    }\n",
       "\n",
       "    .dataframe thead th {\n",
       "        text-align: right;\n",
       "    }\n",
       "</style>\n",
       "<table border=\"1\" class=\"dataframe\">\n",
       "  <thead>\n",
       "    <tr style=\"text-align: right;\">\n",
       "      <th></th>\n",
       "      <th>user_id</th>\n",
       "      <th>role</th>\n",
       "      <th>registration_date</th>\n",
       "      <th>last_active_date</th>\n",
       "      <th>2021</th>\n",
       "      <th>2022</th>\n",
       "      <th>2023</th>\n",
       "      <th>2024</th>\n",
       "    </tr>\n",
       "  </thead>\n",
       "  <tbody>\n",
       "    <tr>\n",
       "      <th>34845</th>\n",
       "      <td>98270</td>\n",
       "      <td>full</td>\n",
       "      <td>2022-12-17</td>\n",
       "      <td>2022-12-25</td>\n",
       "      <td>0</td>\n",
       "      <td>1</td>\n",
       "      <td>0</td>\n",
       "      <td>0</td>\n",
       "    </tr>\n",
       "    <tr>\n",
       "      <th>45741</th>\n",
       "      <td>153876</td>\n",
       "      <td>full</td>\n",
       "      <td>2023-08-24</td>\n",
       "      <td>2023-08-24</td>\n",
       "      <td>0</td>\n",
       "      <td>0</td>\n",
       "      <td>1</td>\n",
       "      <td>0</td>\n",
       "    </tr>\n",
       "    <tr>\n",
       "      <th>43753</th>\n",
       "      <td>146138</td>\n",
       "      <td>full</td>\n",
       "      <td>2023-08-08</td>\n",
       "      <td>2023-11-13</td>\n",
       "      <td>0</td>\n",
       "      <td>0</td>\n",
       "      <td>3</td>\n",
       "      <td>0</td>\n",
       "    </tr>\n",
       "    <tr>\n",
       "      <th>53887</th>\n",
       "      <td>189953</td>\n",
       "      <td>full</td>\n",
       "      <td>2023-10-22</td>\n",
       "      <td>2023-10-22</td>\n",
       "      <td>0</td>\n",
       "      <td>0</td>\n",
       "      <td>1</td>\n",
       "      <td>0</td>\n",
       "    </tr>\n",
       "    <tr>\n",
       "      <th>14596</th>\n",
       "      <td>31211</td>\n",
       "      <td>full</td>\n",
       "      <td>2022-06-03</td>\n",
       "      <td>2022-06-03</td>\n",
       "      <td>0</td>\n",
       "      <td>1</td>\n",
       "      <td>0</td>\n",
       "      <td>0</td>\n",
       "    </tr>\n",
       "    <tr>\n",
       "      <th>48279</th>\n",
       "      <td>165097</td>\n",
       "      <td>full</td>\n",
       "      <td>2023-08-26</td>\n",
       "      <td>2023-08-26</td>\n",
       "      <td>0</td>\n",
       "      <td>0</td>\n",
       "      <td>0</td>\n",
       "      <td>0</td>\n",
       "    </tr>\n",
       "    <tr>\n",
       "      <th>17560</th>\n",
       "      <td>39121</td>\n",
       "      <td>full</td>\n",
       "      <td>2023-12-27</td>\n",
       "      <td>2024-01-03</td>\n",
       "      <td>0</td>\n",
       "      <td>0</td>\n",
       "      <td>0</td>\n",
       "      <td>1</td>\n",
       "    </tr>\n",
       "    <tr>\n",
       "      <th>49075</th>\n",
       "      <td>168455</td>\n",
       "      <td>full</td>\n",
       "      <td>2023-08-29</td>\n",
       "      <td>2023-08-29</td>\n",
       "      <td>0</td>\n",
       "      <td>0</td>\n",
       "      <td>1</td>\n",
       "      <td>0</td>\n",
       "    </tr>\n",
       "    <tr>\n",
       "      <th>17194</th>\n",
       "      <td>38134</td>\n",
       "      <td>full</td>\n",
       "      <td>2023-11-14</td>\n",
       "      <td>2023-11-14</td>\n",
       "      <td>0</td>\n",
       "      <td>0</td>\n",
       "      <td>0</td>\n",
       "      <td>0</td>\n",
       "    </tr>\n",
       "    <tr>\n",
       "      <th>13154</th>\n",
       "      <td>27738</td>\n",
       "      <td>full</td>\n",
       "      <td>2022-05-23</td>\n",
       "      <td>2022-09-04</td>\n",
       "      <td>0</td>\n",
       "      <td>0</td>\n",
       "      <td>0</td>\n",
       "      <td>0</td>\n",
       "    </tr>\n",
       "  </tbody>\n",
       "</table>\n",
       "</div>"
      ],
      "text/plain": [
       "       user_id  role registration_date last_active_date  2021  2022  2023  \\\n",
       "34845    98270  full        2022-12-17       2022-12-25     0     1     0   \n",
       "45741   153876  full        2023-08-24       2023-08-24     0     0     1   \n",
       "43753   146138  full        2023-08-08       2023-11-13     0     0     3   \n",
       "53887   189953  full        2023-10-22       2023-10-22     0     0     1   \n",
       "14596    31211  full        2022-06-03       2022-06-03     0     1     0   \n",
       "48279   165097  full        2023-08-26       2023-08-26     0     0     0   \n",
       "17560    39121  full        2023-12-27       2024-01-03     0     0     0   \n",
       "49075   168455  full        2023-08-29       2023-08-29     0     0     1   \n",
       "17194    38134  full        2023-11-14       2023-11-14     0     0     0   \n",
       "13154    27738  full        2022-05-23       2022-09-04     0     0     0   \n",
       "\n",
       "       2024  \n",
       "34845     0  \n",
       "45741     0  \n",
       "43753     0  \n",
       "53887     0  \n",
       "14596     0  \n",
       "48279     0  \n",
       "17560     1  \n",
       "49075     0  \n",
       "17194     0  \n",
       "13154     0  "
      ]
     },
     "execution_count": 35,
     "metadata": {},
     "output_type": "execute_result"
    }
   ],
   "source": [
    "df_result.sample(10)"
   ]
  },
  {
   "cell_type": "code",
   "execution_count": 36,
   "id": "df1e23ca",
   "metadata": {},
   "outputs": [
    {
     "data": {
      "text/html": [
       "<div>\n",
       "<style scoped>\n",
       "    .dataframe tbody tr th:only-of-type {\n",
       "        vertical-align: middle;\n",
       "    }\n",
       "\n",
       "    .dataframe tbody tr th {\n",
       "        vertical-align: top;\n",
       "    }\n",
       "\n",
       "    .dataframe thead th {\n",
       "        text-align: right;\n",
       "    }\n",
       "</style>\n",
       "<table border=\"1\" class=\"dataframe\">\n",
       "  <thead>\n",
       "    <tr style=\"text-align: right;\">\n",
       "      <th></th>\n",
       "      <th>user_id</th>\n",
       "      <th>role</th>\n",
       "      <th>registration_date</th>\n",
       "      <th>last_active_date</th>\n",
       "      <th>2021</th>\n",
       "      <th>2022</th>\n",
       "      <th>2023</th>\n",
       "      <th>2024</th>\n",
       "    </tr>\n",
       "  </thead>\n",
       "  <tbody>\n",
       "    <tr>\n",
       "      <th>29727</th>\n",
       "      <td>78639</td>\n",
       "      <td>full</td>\n",
       "      <td>2023-11-20</td>\n",
       "      <td>2023-11-20</td>\n",
       "      <td>0</td>\n",
       "      <td>0</td>\n",
       "      <td>0</td>\n",
       "      <td>0</td>\n",
       "    </tr>\n",
       "    <tr>\n",
       "      <th>39630</th>\n",
       "      <td>129880</td>\n",
       "      <td>full</td>\n",
       "      <td>2023-04-04</td>\n",
       "      <td>2023-04-04</td>\n",
       "      <td>0</td>\n",
       "      <td>0</td>\n",
       "      <td>1</td>\n",
       "      <td>0</td>\n",
       "    </tr>\n",
       "    <tr>\n",
       "      <th>39631</th>\n",
       "      <td>129887</td>\n",
       "      <td>full</td>\n",
       "      <td>2023-07-04</td>\n",
       "      <td>2023-07-17</td>\n",
       "      <td>0</td>\n",
       "      <td>0</td>\n",
       "      <td>1</td>\n",
       "      <td>0</td>\n",
       "    </tr>\n",
       "    <tr>\n",
       "      <th>39632</th>\n",
       "      <td>129890</td>\n",
       "      <td>full</td>\n",
       "      <td>2023-04-05</td>\n",
       "      <td>2023-04-05</td>\n",
       "      <td>0</td>\n",
       "      <td>0</td>\n",
       "      <td>1</td>\n",
       "      <td>0</td>\n",
       "    </tr>\n",
       "    <tr>\n",
       "      <th>39633</th>\n",
       "      <td>129903</td>\n",
       "      <td>full</td>\n",
       "      <td>2023-04-05</td>\n",
       "      <td>2023-10-30</td>\n",
       "      <td>0</td>\n",
       "      <td>0</td>\n",
       "      <td>3</td>\n",
       "      <td>0</td>\n",
       "    </tr>\n",
       "    <tr>\n",
       "      <th>...</th>\n",
       "      <td>...</td>\n",
       "      <td>...</td>\n",
       "      <td>...</td>\n",
       "      <td>...</td>\n",
       "      <td>...</td>\n",
       "      <td>...</td>\n",
       "      <td>...</td>\n",
       "      <td>...</td>\n",
       "    </tr>\n",
       "    <tr>\n",
       "      <th>896</th>\n",
       "      <td>1519</td>\n",
       "      <td>full</td>\n",
       "      <td>2021-12-10</td>\n",
       "      <td>2023-03-02</td>\n",
       "      <td>86</td>\n",
       "      <td>177</td>\n",
       "      <td>3</td>\n",
       "      <td>0</td>\n",
       "    </tr>\n",
       "    <tr>\n",
       "      <th>115</th>\n",
       "      <td>254</td>\n",
       "      <td>full</td>\n",
       "      <td>2021-12-06</td>\n",
       "      <td>2023-10-20</td>\n",
       "      <td>87</td>\n",
       "      <td>353</td>\n",
       "      <td>123</td>\n",
       "      <td>0</td>\n",
       "    </tr>\n",
       "    <tr>\n",
       "      <th>539</th>\n",
       "      <td>1019</td>\n",
       "      <td>full</td>\n",
       "      <td>2021-12-06</td>\n",
       "      <td>2023-12-28</td>\n",
       "      <td>89</td>\n",
       "      <td>629</td>\n",
       "      <td>407</td>\n",
       "      <td>0</td>\n",
       "    </tr>\n",
       "    <tr>\n",
       "      <th>1376</th>\n",
       "      <td>2228</td>\n",
       "      <td>full</td>\n",
       "      <td>2021-12-07</td>\n",
       "      <td>2023-12-07</td>\n",
       "      <td>93</td>\n",
       "      <td>261</td>\n",
       "      <td>22</td>\n",
       "      <td>0</td>\n",
       "    </tr>\n",
       "    <tr>\n",
       "      <th>1368</th>\n",
       "      <td>2218</td>\n",
       "      <td>full</td>\n",
       "      <td>2021-12-07</td>\n",
       "      <td>2023-04-01</td>\n",
       "      <td>94</td>\n",
       "      <td>259</td>\n",
       "      <td>33</td>\n",
       "      <td>0</td>\n",
       "    </tr>\n",
       "  </tbody>\n",
       "</table>\n",
       "<p>59456 rows × 8 columns</p>\n",
       "</div>"
      ],
      "text/plain": [
       "       user_id  role registration_date last_active_date  2021  2022  2023  \\\n",
       "29727    78639  full        2023-11-20       2023-11-20     0     0     0   \n",
       "39630   129880  full        2023-04-04       2023-04-04     0     0     1   \n",
       "39631   129887  full        2023-07-04       2023-07-17     0     0     1   \n",
       "39632   129890  full        2023-04-05       2023-04-05     0     0     1   \n",
       "39633   129903  full        2023-04-05       2023-10-30     0     0     3   \n",
       "...        ...   ...               ...              ...   ...   ...   ...   \n",
       "896       1519  full        2021-12-10       2023-03-02    86   177     3   \n",
       "115        254  full        2021-12-06       2023-10-20    87   353   123   \n",
       "539       1019  full        2021-12-06       2023-12-28    89   629   407   \n",
       "1376      2228  full        2021-12-07       2023-12-07    93   261    22   \n",
       "1368      2218  full        2021-12-07       2023-04-01    94   259    33   \n",
       "\n",
       "       2024  \n",
       "29727     0  \n",
       "39630     0  \n",
       "39631     0  \n",
       "39632     0  \n",
       "39633     0  \n",
       "...     ...  \n",
       "896       0  \n",
       "115       0  \n",
       "539       0  \n",
       "1376      0  \n",
       "1368      0  \n",
       "\n",
       "[59456 rows x 8 columns]"
      ]
     },
     "execution_count": 36,
     "metadata": {},
     "output_type": "execute_result"
    }
   ],
   "source": [
    "df_result.sort_values(2021)"
   ]
  },
  {
   "cell_type": "code",
   "execution_count": 37,
   "id": "cc3639b8",
   "metadata": {},
   "outputs": [],
   "source": [
    "df_result.to_csv('task_01_result.csv')"
   ]
  },
  {
   "cell_type": "markdown",
   "id": "4969f6bf",
   "metadata": {},
   "source": [
    "### В качестве дополнительного задания построю пару графиков"
   ]
  },
  {
   "cell_type": "markdown",
   "id": "3369bc9f",
   "metadata": {},
   "source": [
    "#### График количества выполненных заданий по годам"
   ]
  },
  {
   "cell_type": "code",
   "execution_count": 38,
   "id": "24c19549",
   "metadata": {},
   "outputs": [],
   "source": [
    "df_ungroup = df_result.melt(id_vars=['user_id'], value_vars=[2021, 2022, 2023, 2024],\n",
    "                  var_name='Year', value_name='Tasks')"
   ]
  },
  {
   "cell_type": "code",
   "execution_count": 39,
   "id": "30b2df6b",
   "metadata": {},
   "outputs": [],
   "source": [
    "df_cnt = df_ungroup.groupby('Year', as_index=False).agg({'Tasks':'sum'}).sort_values('Tasks', ascending=False)"
   ]
  },
  {
   "cell_type": "code",
   "execution_count": 40,
   "id": "54ed49b1",
   "metadata": {},
   "outputs": [
    {
     "data": {
      "text/html": [
       "<div>\n",
       "<style scoped>\n",
       "    .dataframe tbody tr th:only-of-type {\n",
       "        vertical-align: middle;\n",
       "    }\n",
       "\n",
       "    .dataframe tbody tr th {\n",
       "        vertical-align: top;\n",
       "    }\n",
       "\n",
       "    .dataframe thead th {\n",
       "        text-align: right;\n",
       "    }\n",
       "</style>\n",
       "<table border=\"1\" class=\"dataframe\">\n",
       "  <thead>\n",
       "    <tr style=\"text-align: right;\">\n",
       "      <th></th>\n",
       "      <th>Year</th>\n",
       "      <th>Tasks</th>\n",
       "    </tr>\n",
       "  </thead>\n",
       "  <tbody>\n",
       "    <tr>\n",
       "      <th>1</th>\n",
       "      <td>2022</td>\n",
       "      <td>373905</td>\n",
       "    </tr>\n",
       "    <tr>\n",
       "      <th>2</th>\n",
       "      <td>2023</td>\n",
       "      <td>247470</td>\n",
       "    </tr>\n",
       "    <tr>\n",
       "      <th>0</th>\n",
       "      <td>2021</td>\n",
       "      <td>14211</td>\n",
       "    </tr>\n",
       "    <tr>\n",
       "      <th>3</th>\n",
       "      <td>2024</td>\n",
       "      <td>1404</td>\n",
       "    </tr>\n",
       "  </tbody>\n",
       "</table>\n",
       "</div>"
      ],
      "text/plain": [
       "   Year   Tasks\n",
       "1  2022  373905\n",
       "2  2023  247470\n",
       "0  2021   14211\n",
       "3  2024    1404"
      ]
     },
     "execution_count": 40,
     "metadata": {},
     "output_type": "execute_result"
    }
   ],
   "source": [
    "df_cnt"
   ]
  },
  {
   "cell_type": "code",
   "execution_count": 41,
   "id": "63089f56",
   "metadata": {},
   "outputs": [
    {
     "data": {
      "text/plain": [
       "33.81"
      ]
     },
     "execution_count": 41,
     "metadata": {},
     "output_type": "execute_result"
    }
   ],
   "source": [
    "# Процент упадка в количестве выполненных заданий\n",
    "round(-np.array(df_cnt.loc[df_cnt['Year'] == 2023]['Tasks'])[0] / np.array(df_cnt.loc[df_cnt['Year'] == 2022]['Tasks'])[0] * 100 + 100, 2) "
   ]
  },
  {
   "cell_type": "code",
   "execution_count": 42,
   "id": "23e52b28",
   "metadata": {},
   "outputs": [
    {
     "data": {
      "image/png": "[encoded data removed]",
      "text/plain": [
       "<Figure size 1000x600 with 1 Axes>"
      ]
     },
     "metadata": {},
     "output_type": "display_data"
    }
   ],
   "source": [
    "plt.figure(figsize=(10, 6))\n",
    "\n",
    "bar = sns.barplot(data=df_ungroup, x='Year', y='Tasks', estimator=sum, errorbar=None)\n",
    "\n",
    "bar.set(title='Количество выполненных заданий по годам', xlabel='Год', ylabel='Количество выполненных заданий')\n",
    "plt.grid(True)\n",
    "plt.show()"
   ]
  },
  {
   "cell_type": "markdown",
   "id": "24772151",
   "metadata": {},
   "source": [
    "#### График количества регистраций заданий по годам"
   ]
  },
  {
   "cell_type": "code",
   "execution_count": 43,
   "id": "49eaa557",
   "metadata": {},
   "outputs": [],
   "source": [
    "df_reg = df_result['registration_date'].dt.year.value_counts().reset_index()"
   ]
  },
  {
   "cell_type": "code",
   "execution_count": 44,
   "id": "200ea13e",
   "metadata": {},
   "outputs": [
    {
     "data": {
      "text/html": [
       "<div>\n",
       "<style scoped>\n",
       "    .dataframe tbody tr th:only-of-type {\n",
       "        vertical-align: middle;\n",
       "    }\n",
       "\n",
       "    .dataframe tbody tr th {\n",
       "        vertical-align: top;\n",
       "    }\n",
       "\n",
       "    .dataframe thead th {\n",
       "        text-align: right;\n",
       "    }\n",
       "</style>\n",
       "<table border=\"1\" class=\"dataframe\">\n",
       "  <thead>\n",
       "    <tr style=\"text-align: right;\">\n",
       "      <th></th>\n",
       "      <th>registration_date</th>\n",
       "      <th>count</th>\n",
       "    </tr>\n",
       "  </thead>\n",
       "  <tbody>\n",
       "    <tr>\n",
       "      <th>0</th>\n",
       "      <td>2022</td>\n",
       "      <td>30008</td>\n",
       "    </tr>\n",
       "    <tr>\n",
       "      <th>1</th>\n",
       "      <td>2023</td>\n",
       "      <td>25934</td>\n",
       "    </tr>\n",
       "    <tr>\n",
       "      <th>2</th>\n",
       "      <td>2021</td>\n",
       "      <td>3514</td>\n",
       "    </tr>\n",
       "  </tbody>\n",
       "</table>\n",
       "</div>"
      ],
      "text/plain": [
       "   registration_date  count\n",
       "0               2022  30008\n",
       "1               2023  25934\n",
       "2               2021   3514"
      ]
     },
     "execution_count": 44,
     "metadata": {},
     "output_type": "execute_result"
    }
   ],
   "source": [
    "df_reg"
   ]
  },
  {
   "cell_type": "code",
   "execution_count": 45,
   "id": "8a84ea5b",
   "metadata": {},
   "outputs": [
    {
     "data": {
      "text/plain": [
       "13.58"
      ]
     },
     "execution_count": 45,
     "metadata": {},
     "output_type": "execute_result"
    }
   ],
   "source": [
    "# Процент упадка в количестве регистраций\n",
    "round(-np.array(df_reg.loc[df_reg['registration_date'] == 2023]['count'])[0] / np.array(df_reg.loc[df_reg['registration_date'] == 2022]['count'])[0] * 100 + 100, 2)"
   ]
  },
  {
   "cell_type": "code",
   "execution_count": 47,
   "id": "98f4e172",
   "metadata": {},
   "outputs": [
    {
     "data": {
      "image/png": "[encoded data removed]",
      "text/plain": [
       "<Figure size 1000x600 with 1 Axes>"
      ]
     },
     "metadata": {},
     "output_type": "display_data"
    }
   ],
   "source": [
    "plt.figure(figsize=(10, 6))\n",
    "\n",
    "bar = sns.barplot(data=df_reg, x='registration_date', y='count', estimator=sum, errorbar=None)\n",
    "\n",
    "bar.set(title='Количество регитраций заданий по годам', xlabel='Год', ylabel='Количество регистраций в проекте')\n",
    "plt.grid(True)\n",
    "plt.show()"
   ]
  },
  {
   "cell_type": "markdown",
   "id": "29db2424",
   "metadata": {},
   "source": [
    "В 2022 было сделано на 13.58% меньше регистраций, чем в 2023.\n",
    "В 2023 регистраций было меньше на 33.81% меньше заданий, чем в 2022 году.\n",
    "\n",
    "Это может быть связано со многими факторами, например заданий было попросту меньше или люди менее охотно их выполняли и т.д."
   ]
  },
  {
   "cell_type": "code",
   "execution_count": 48,
   "id": "8ff441d5",
   "metadata": {},
   "outputs": [
    {
     "data": {
      "text/html": [
       "<div>\n",
       "<style scoped>\n",
       "    .dataframe tbody tr th:only-of-type {\n",
       "        vertical-align: middle;\n",
       "    }\n",
       "\n",
       "    .dataframe tbody tr th {\n",
       "        vertical-align: top;\n",
       "    }\n",
       "\n",
       "    .dataframe thead th {\n",
       "        text-align: right;\n",
       "    }\n",
       "</style>\n",
       "<table border=\"1\" class=\"dataframe\">\n",
       "  <thead>\n",
       "    <tr style=\"text-align: right;\">\n",
       "      <th></th>\n",
       "      <th>user_id</th>\n",
       "      <th>role</th>\n",
       "      <th>registration_date</th>\n",
       "      <th>last_active_date</th>\n",
       "      <th>2021</th>\n",
       "      <th>2022</th>\n",
       "      <th>2023</th>\n",
       "      <th>2024</th>\n",
       "    </tr>\n",
       "  </thead>\n",
       "  <tbody>\n",
       "    <tr>\n",
       "      <th>0</th>\n",
       "      <td>79</td>\n",
       "      <td>full</td>\n",
       "      <td>2021-12-30</td>\n",
       "      <td>2023-04-01</td>\n",
       "      <td>1</td>\n",
       "      <td>2</td>\n",
       "      <td>1</td>\n",
       "      <td>0</td>\n",
       "    </tr>\n",
       "    <tr>\n",
       "      <th>1</th>\n",
       "      <td>80</td>\n",
       "      <td>full</td>\n",
       "      <td>2021-11-22</td>\n",
       "      <td>2023-01-30</td>\n",
       "      <td>2</td>\n",
       "      <td>1</td>\n",
       "      <td>1</td>\n",
       "      <td>0</td>\n",
       "    </tr>\n",
       "    <tr>\n",
       "      <th>2</th>\n",
       "      <td>82</td>\n",
       "      <td>full</td>\n",
       "      <td>2021-11-22</td>\n",
       "      <td>2021-12-09</td>\n",
       "      <td>1</td>\n",
       "      <td>0</td>\n",
       "      <td>0</td>\n",
       "      <td>0</td>\n",
       "    </tr>\n",
       "    <tr>\n",
       "      <th>3</th>\n",
       "      <td>83</td>\n",
       "      <td>full</td>\n",
       "      <td>2021-11-26</td>\n",
       "      <td>2023-04-01</td>\n",
       "      <td>2</td>\n",
       "      <td>3</td>\n",
       "      <td>1</td>\n",
       "      <td>0</td>\n",
       "    </tr>\n",
       "    <tr>\n",
       "      <th>4</th>\n",
       "      <td>84</td>\n",
       "      <td>full</td>\n",
       "      <td>2021-11-25</td>\n",
       "      <td>2023-05-22</td>\n",
       "      <td>2</td>\n",
       "      <td>5</td>\n",
       "      <td>1</td>\n",
       "      <td>0</td>\n",
       "    </tr>\n",
       "    <tr>\n",
       "      <th>...</th>\n",
       "      <td>...</td>\n",
       "      <td>...</td>\n",
       "      <td>...</td>\n",
       "      <td>...</td>\n",
       "      <td>...</td>\n",
       "      <td>...</td>\n",
       "      <td>...</td>\n",
       "      <td>...</td>\n",
       "    </tr>\n",
       "    <tr>\n",
       "      <th>59451</th>\n",
       "      <td>231193</td>\n",
       "      <td>full</td>\n",
       "      <td>2023-12-31</td>\n",
       "      <td>2023-12-31</td>\n",
       "      <td>0</td>\n",
       "      <td>0</td>\n",
       "      <td>1</td>\n",
       "      <td>0</td>\n",
       "    </tr>\n",
       "    <tr>\n",
       "      <th>59452</th>\n",
       "      <td>231195</td>\n",
       "      <td>full</td>\n",
       "      <td>2023-12-31</td>\n",
       "      <td>2023-12-31</td>\n",
       "      <td>0</td>\n",
       "      <td>0</td>\n",
       "      <td>1</td>\n",
       "      <td>0</td>\n",
       "    </tr>\n",
       "    <tr>\n",
       "      <th>59453</th>\n",
       "      <td>231197</td>\n",
       "      <td>full</td>\n",
       "      <td>2023-12-31</td>\n",
       "      <td>2024-07-08</td>\n",
       "      <td>0</td>\n",
       "      <td>0</td>\n",
       "      <td>0</td>\n",
       "      <td>1</td>\n",
       "    </tr>\n",
       "    <tr>\n",
       "      <th>59454</th>\n",
       "      <td>231201</td>\n",
       "      <td>full</td>\n",
       "      <td>2023-12-31</td>\n",
       "      <td>2023-12-31</td>\n",
       "      <td>0</td>\n",
       "      <td>0</td>\n",
       "      <td>0</td>\n",
       "      <td>0</td>\n",
       "    </tr>\n",
       "    <tr>\n",
       "      <th>59455</th>\n",
       "      <td>231204</td>\n",
       "      <td>full</td>\n",
       "      <td>2023-12-31</td>\n",
       "      <td>2024-01-13</td>\n",
       "      <td>0</td>\n",
       "      <td>0</td>\n",
       "      <td>0</td>\n",
       "      <td>1</td>\n",
       "    </tr>\n",
       "  </tbody>\n",
       "</table>\n",
       "<p>59456 rows × 8 columns</p>\n",
       "</div>"
      ],
      "text/plain": [
       "       user_id  role registration_date last_active_date  2021  2022  2023  \\\n",
       "0           79  full        2021-12-30       2023-04-01     1     2     1   \n",
       "1           80  full        2021-11-22       2023-01-30     2     1     1   \n",
       "2           82  full        2021-11-22       2021-12-09     1     0     0   \n",
       "3           83  full        2021-11-26       2023-04-01     2     3     1   \n",
       "4           84  full        2021-11-25       2023-05-22     2     5     1   \n",
       "...        ...   ...               ...              ...   ...   ...   ...   \n",
       "59451   231193  full        2023-12-31       2023-12-31     0     0     1   \n",
       "59452   231195  full        2023-12-31       2023-12-31     0     0     1   \n",
       "59453   231197  full        2023-12-31       2024-07-08     0     0     0   \n",
       "59454   231201  full        2023-12-31       2023-12-31     0     0     0   \n",
       "59455   231204  full        2023-12-31       2024-01-13     0     0     0   \n",
       "\n",
       "       2024  \n",
       "0         0  \n",
       "1         0  \n",
       "2         0  \n",
       "3         0  \n",
       "4         0  \n",
       "...     ...  \n",
       "59451     0  \n",
       "59452     0  \n",
       "59453     1  \n",
       "59454     0  \n",
       "59455     1  \n",
       "\n",
       "[59456 rows x 8 columns]"
      ]
     },
     "execution_count": 48,
     "metadata": {},
     "output_type": "execute_result"
    }
   ],
   "source": [
    "df_result"
   ]
  },
  {
   "cell_type": "markdown",
   "id": "4df861f4",
   "metadata": {},
   "source": [
    "#### Посчитаю метрику MAU из начального датафрейма"
   ]
  },
  {
   "cell_type": "code",
   "execution_count": 49,
   "id": "117c55d0",
   "metadata": {},
   "outputs": [],
   "source": [
    "sessions_closed= pd.read_csv('sessions_closed.csv')"
   ]
  },
  {
   "cell_type": "code",
   "execution_count": 50,
   "id": "50b0589b",
   "metadata": {},
   "outputs": [],
   "source": [
    "df = sessions_closed.copy()"
   ]
  },
  {
   "cell_type": "code",
   "execution_count": 51,
   "id": "b4370892",
   "metadata": {},
   "outputs": [],
   "source": [
    "df['created_at'] = pd.to_datetime(df['created_at'], format='mixed').dt.date\n",
    "df['updated_at'] = pd.to_datetime(df['updated_at'], format='mixed').dt.date"
   ]
  },
  {
   "cell_type": "code",
   "execution_count": 52,
   "id": "5ffb3926",
   "metadata": {},
   "outputs": [],
   "source": [
    "df_1 = df[['user_id', 'created_at']].rename(columns={'created_at':'active_date'})"
   ]
  },
  {
   "cell_type": "markdown",
   "id": "83acd856",
   "metadata": {},
   "source": [
    "Если статус updated_at > created_at и статусы\n",
    "- 103 - дата последней активности.\n",
    "- 101 - дата последней активности."
   ]
  },
  {
   "cell_type": "code",
   "execution_count": 53,
   "id": "249eb7a7",
   "metadata": {
    "scrolled": true
   },
   "outputs": [],
   "source": [
    "df_2 = df[(df['updated_at'] > df['created_at']) & ((df['status'] == 101)  | (df['status'] == 103))]"
   ]
  },
  {
   "cell_type": "code",
   "execution_count": 54,
   "id": "88ab21d9",
   "metadata": {},
   "outputs": [],
   "source": [
    "df_2 = df_2[['user_id', 'updated_at']].rename(columns={'updated_at':'active_date'})"
   ]
  },
  {
   "cell_type": "code",
   "execution_count": 55,
   "id": "1d06558f",
   "metadata": {},
   "outputs": [],
   "source": [
    "df_3 = pd.concat([df_1, df_2])"
   ]
  },
  {
   "cell_type": "code",
   "execution_count": 56,
   "id": "05e1afac",
   "metadata": {},
   "outputs": [],
   "source": [
    "df_3['active_date'] = pd.to_datetime(df_3['active_date'])"
   ]
  },
  {
   "cell_type": "code",
   "execution_count": 57,
   "id": "4bf0579c",
   "metadata": {
    "scrolled": true
   },
   "outputs": [],
   "source": [
    "# Извлечение года и месяца из active_date\n",
    "df_3['year'] = df_3['active_date'].dt.year\n",
    "df_3['month'] = df_3['active_date'].dt.month"
   ]
  },
  {
   "cell_type": "code",
   "execution_count": 58,
   "id": "a55d4f2a",
   "metadata": {},
   "outputs": [],
   "source": [
    "# поссчитаю mau\n",
    "mau = df_3.groupby(['year', 'month'], as_index=False)['user_id'].nunique()"
   ]
  },
  {
   "cell_type": "code",
   "execution_count": 59,
   "id": "fddbcdd5",
   "metadata": {
    "scrolled": true
   },
   "outputs": [],
   "source": [
    "mau['date'] = pd.to_datetime(mau[['year', 'month']].assign(day=1)) + pd.offsets.MonthEnd(0)"
   ]
  },
  {
   "cell_type": "code",
   "execution_count": 60,
   "id": "6a35f0d9",
   "metadata": {},
   "outputs": [
    {
     "data": {
      "image/png": "[encoded data removed]",
      "text/plain": [
       "<Figure size 1000x600 with 1 Axes>"
      ]
     },
     "metadata": {},
     "output_type": "display_data"
    }
   ],
   "source": [
    "# Построение графика\n",
    "plt.figure(figsize=(10, 6))\n",
    "sns.lineplot(data=mau, x='date', y='user_id', marker='o')\n",
    "\n",
    "# Настройки графика\n",
    "plt.title(\"Monthly Active Users\")\n",
    "plt.xlabel(\"Дата\")\n",
    "plt.ylabel(\"Количество активных пользователей\")\n",
    "plt.xticks(rotation=45)  # Поворот меток на оси X для удобства чтения\n",
    "plt.grid(True)  # Включить сетку\n",
    "\n",
    "plt.show()"
   ]
  },
  {
   "cell_type": "markdown",
   "id": "b60f6c5a",
   "metadata": {},
   "source": [
    "Всё, я устал :)\n",
    "\n",
    "- По графику видно значительную просадку летом 2023 года. Возможно люди разъехали по дачам и отпускам и им было не до заданий\n",
    "- С другой стороны летом 2022 года показатели летом были возрастающими и люди пользовались платформой\n",
    "- Про 2024 год без комментариев. Думаю нужно обновить данные за 2024 год"
   ]
  },
  {
   "cell_type": "code",
   "execution_count": null,
   "id": "378d3aa4",
   "metadata": {},
   "outputs": [],
   "source": []
  }
 ],
 "metadata": {
  "kernelspec": {
   "display_name": "Python 3 (ipykernel)",
   "language": "python",
   "name": "python3"
  },
  "language_info": {
   "codemirror_mode": {
    "name": "ipython",
    "version": 3
   },
   "file_extension": ".py",
   "mimetype": "text/x-python",
   "name": "python",
   "nbconvert_exporter": "python",
   "pygments_lexer": "ipython3",
   "version": "3.11.5"
  }
 },
 "nbformat": 4,
 "nbformat_minor": 5
}
